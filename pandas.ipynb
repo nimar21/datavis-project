{
 "cells": [
  {
   "cell_type": "markdown",
   "metadata": {},
   "source": [
    "# Data Visualisation with Pandas:"
   ]
  },
  {
   "cell_type": "markdown",
   "metadata": {},
   "source": [
    "<i>Pandas</i> is a Python library written by Wes McKinney for data manipulation and analysis. It provides fast and flexible data structures which make working with relational data more easy and intuitive and is currently one of the most active and important Python data analysis libraries.\n",
    "\n",
    "## Getting started\n",
    "\n",
    "Start by making the necessary imports. The <i>pandas</i> library can be imported as any name but <b>pd</b> is the convention you will see used in most publications and online material:"
   ]
  },
  {
   "cell_type": "code",
   "execution_count": 1,
   "metadata": {
    "collapsed": true
   },
   "outputs": [],
   "source": [
    "import pandas as pd"
   ]
  },
  {
   "cell_type": "markdown",
   "metadata": {},
   "source": [
    "We will be using <i>matplotlib.pyplot</i> later on when we are presenting our data so we will also import this:"
   ]
  },
  {
   "cell_type": "code",
   "execution_count": 2,
   "metadata": {
    "collapsed": true
   },
   "outputs": [],
   "source": [
    "import matplotlib.pyplot as plt\n",
    "\n",
    "# Must include so that graphs can be properly displayed in Jupyter notebook cells\n",
    "%matplotlib inline"
   ]
  },
  {
   "cell_type": "markdown",
   "metadata": {},
   "source": [
    "We will be creating a few graphs in this notebook so to make them more aesthetically pleasing, we will also import seaborn (see tutorial on seaborn for more information on how to change the appearance of your plots using this library)."
   ]
  },
  {
   "cell_type": "code",
   "execution_count": 3,
   "metadata": {
    "collapsed": true
   },
   "outputs": [],
   "source": [
    "import seaborn as sns"
   ]
  },
  {
   "cell_type": "markdown",
   "metadata": {},
   "source": [
    "## Extracting and displaying the data"
   ]
  },
  {
   "cell_type": "markdown",
   "metadata": {},
   "source": [
    "Now that we have imported the libraries we need, we will look at different sources of data we can use when creating what is known as a <b>DataFrame</b>.\n",
    "> A <b>DataFrame</b> is <i>a two-dimensional size-mutable, potentially heterogeneous tabular data structure with labeled rows and columns</i> and is the primary pandas data structure.\n",
    "\n",
    "The first source of data we will look at is data we generate ourselves. We will create this data using lists for each column in the table which we will then merge together before creating a DataFrame object from it. \n",
    "\n",
    "Let's start by defining the values for two columns whose data will describe the number of sales of different products in a shop:"
   ]
  },
  {
   "cell_type": "code",
   "execution_count": 4,
   "metadata": {
    "collapsed": true
   },
   "outputs": [],
   "source": [
    "products = ['Lawnmower','Deck Chair','Paint Brush','Garden Bench','Artificial Fountain']\n",
    "sales = [231,423,603,64,32]"
   ]
  },
  {
   "cell_type": "markdown",
   "metadata": {},
   "source": [
    "We can merge these two lists together to create a list of tuple pairs using the <i>zip</i> and <i>list</i> functions:"
   ]
  },
  {
   "cell_type": "code",
   "execution_count": 5,
   "metadata": {
    "collapsed": true
   },
   "outputs": [],
   "source": [
    "shop_sales = list(zip(products,sales))"
   ]
  },
  {
   "cell_type": "markdown",
   "metadata": {},
   "source": [
    "Let's check that the list of tuples was created properly by displaying it. We can do this by simply writing the name of this new list:"
   ]
  },
  {
   "cell_type": "code",
   "execution_count": 6,
   "metadata": {
    "collapsed": false
   },
   "outputs": [
    {
     "data": {
      "text/plain": [
       "[('Lawnmower', 231),\n",
       " ('Deck Chair', 423),\n",
       " ('Paint Brush', 603),\n",
       " ('Garden Bench', 64),\n",
       " ('Artificial Fountain', 32)]"
      ]
     },
     "execution_count": 6,
     "metadata": {},
     "output_type": "execute_result"
    }
   ],
   "source": [
    "shop_sales"
   ]
  },
  {
   "cell_type": "markdown",
   "metadata": {},
   "source": [
    "As you can see, the list has been created successfully. Each tuple consists of the name of a product from the shop along with the number of times it was sold. Now we are ready to create a DataFrame object from this data, whose column names we can define using the <i>columns</i> attribute of the DataFrame object:"
   ]
  },
  {
   "cell_type": "code",
   "execution_count": 7,
   "metadata": {
    "collapsed": true
   },
   "outputs": [],
   "source": [
    "df = pd.DataFrame(data=shop_sales, columns=['Products', 'Sale Count'])"
   ]
  },
  {
   "cell_type": "markdown",
   "metadata": {},
   "source": [
    "Now let's display it:"
   ]
  },
  {
   "cell_type": "code",
   "execution_count": 8,
   "metadata": {
    "collapsed": false
   },
   "outputs": [
    {
     "data": {
      "text/html": [
       "<div>\n",
       "<table border=\"1\" class=\"dataframe\">\n",
       "  <thead>\n",
       "    <tr style=\"text-align: right;\">\n",
       "      <th></th>\n",
       "      <th>Products</th>\n",
       "      <th>Sale Count</th>\n",
       "    </tr>\n",
       "  </thead>\n",
       "  <tbody>\n",
       "    <tr>\n",
       "      <th>0</th>\n",
       "      <td>Lawnmower</td>\n",
       "      <td>231</td>\n",
       "    </tr>\n",
       "    <tr>\n",
       "      <th>1</th>\n",
       "      <td>Deck Chair</td>\n",
       "      <td>423</td>\n",
       "    </tr>\n",
       "    <tr>\n",
       "      <th>2</th>\n",
       "      <td>Paint Brush</td>\n",
       "      <td>603</td>\n",
       "    </tr>\n",
       "    <tr>\n",
       "      <th>3</th>\n",
       "      <td>Garden Bench</td>\n",
       "      <td>64</td>\n",
       "    </tr>\n",
       "    <tr>\n",
       "      <th>4</th>\n",
       "      <td>Artificial Fountain</td>\n",
       "      <td>32</td>\n",
       "    </tr>\n",
       "  </tbody>\n",
       "</table>\n",
       "</div>"
      ],
      "text/plain": [
       "              Products  Sale Count\n",
       "0            Lawnmower         231\n",
       "1           Deck Chair         423\n",
       "2          Paint Brush         603\n",
       "3         Garden Bench          64\n",
       "4  Artificial Fountain          32"
      ]
     },
     "execution_count": 8,
     "metadata": {},
     "output_type": "execute_result"
    }
   ],
   "source": [
    "df"
   ]
  },
  {
   "cell_type": "markdown",
   "metadata": {},
   "source": [
    "We have now successfully created a <i>pandas</i> DataFrame from data we defined using simple lists.\n",
    "\n",
    "However, in real life it is not practical to type out all of your data values in lists; a more common, efficent source which we will now look at is a <b>CSV file</b>.\n",
    "\n",
    "> A <b>Comma-Separated Values (CSV) file</b> is a file which stores tabular data in plain text, each line of which is a data record. The first row of the CSV file is, by default, interpreted as the names of the columns.\n",
    "\n",
    "If we want to convert the DataFrame we just created to a CSV file, we can do so easily using the pandas function <i>to_csv()</i>. This function takes in many parameters (for more details, see here: http://pandas.pydata.org/pandas-docs/stable/generated/pandas.DataFrame.to_csv.html), however we are only going to use two in this example:"
   ]
  },
  {
   "cell_type": "code",
   "execution_count": 9,
   "metadata": {
    "collapsed": true
   },
   "outputs": [],
   "source": [
    "# Specify the name of the CSV file you are creating and omit the index column from it \n",
    "df.to_csv('shopsales.csv', index=False)"
   ]
  },
  {
   "cell_type": "markdown",
   "metadata": {},
   "source": [
    "Let's now check that this new CSV file was created properly by reading in the new file using the pandas function <i>read_csv()</i>:"
   ]
  },
  {
   "cell_type": "code",
   "execution_count": 10,
   "metadata": {
    "collapsed": false
   },
   "outputs": [],
   "source": [
    "sales = pd.read_csv(\"shopsales.csv\")"
   ]
  },
  {
   "cell_type": "markdown",
   "metadata": {},
   "source": [
    "Let's check that our data was read in correctly by displaying the DataFrame. This can be achieved by simply typing the name of the data frame:"
   ]
  },
  {
   "cell_type": "code",
   "execution_count": 11,
   "metadata": {
    "collapsed": false
   },
   "outputs": [
    {
     "data": {
      "text/html": [
       "<div>\n",
       "<table border=\"1\" class=\"dataframe\">\n",
       "  <thead>\n",
       "    <tr style=\"text-align: right;\">\n",
       "      <th></th>\n",
       "      <th>Products</th>\n",
       "      <th>Sale Count</th>\n",
       "    </tr>\n",
       "  </thead>\n",
       "  <tbody>\n",
       "    <tr>\n",
       "      <th>0</th>\n",
       "      <td>Lawnmower</td>\n",
       "      <td>231</td>\n",
       "    </tr>\n",
       "    <tr>\n",
       "      <th>1</th>\n",
       "      <td>Deck Chair</td>\n",
       "      <td>423</td>\n",
       "    </tr>\n",
       "    <tr>\n",
       "      <th>2</th>\n",
       "      <td>Paint Brush</td>\n",
       "      <td>603</td>\n",
       "    </tr>\n",
       "    <tr>\n",
       "      <th>3</th>\n",
       "      <td>Garden Bench</td>\n",
       "      <td>64</td>\n",
       "    </tr>\n",
       "    <tr>\n",
       "      <th>4</th>\n",
       "      <td>Artificial Fountain</td>\n",
       "      <td>32</td>\n",
       "    </tr>\n",
       "  </tbody>\n",
       "</table>\n",
       "</div>"
      ],
      "text/plain": [
       "              Products  Sale Count\n",
       "0            Lawnmower         231\n",
       "1           Deck Chair         423\n",
       "2          Paint Brush         603\n",
       "3         Garden Bench          64\n",
       "4  Artificial Fountain          32"
      ]
     },
     "execution_count": 11,
     "metadata": {},
     "output_type": "execute_result"
    }
   ],
   "source": [
    "sales"
   ]
  },
  {
   "cell_type": "markdown",
   "metadata": {},
   "source": [
    "We can see that this worked properly as all rows of the original table are present and the index column was not copied across as we specified (the new index column is that of the new DataFrame).\n",
    "\n",
    "Pandas offers a very simple means of plotting columns using the <i>plot()</i> function along with the column that you want to plot. You can add more features to the plot using the <i>matplotlib</i> library."
   ]
  },
  {
   "cell_type": "code",
   "execution_count": 12,
   "metadata": {
    "collapsed": false
   },
   "outputs": [
    {
     "data": {
      "image/png": "[encoded data removed]",
      "text/plain": [
       "<matplotlib.figure.Figure at 0x7f1d7d0>"
      ]
     },
     "metadata": {},
     "output_type": "display_data"
    },
    {
     "name": "stdout",
     "output_type": "stream",
     "text": [
      "Relevant data from DataFrame:\n"
     ]
    },
    {
     "data": {
      "text/html": [
       "<div>\n",
       "<table border=\"1\" class=\"dataframe\">\n",
       "  <thead>\n",
       "    <tr style=\"text-align: right;\">\n",
       "      <th></th>\n",
       "      <th>Products</th>\n",
       "      <th>Sale Count</th>\n",
       "    </tr>\n",
       "    <tr>\n",
       "      <th>Products</th>\n",
       "      <th></th>\n",
       "      <th></th>\n",
       "    </tr>\n",
       "  </thead>\n",
       "  <tbody>\n",
       "    <tr>\n",
       "      <th>Paint Brush</th>\n",
       "      <td>Paint Brush</td>\n",
       "      <td>603</td>\n",
       "    </tr>\n",
       "  </tbody>\n",
       "</table>\n",
       "</div>"
      ],
      "text/plain": [
       "                Products  Sale Count\n",
       "Products                            \n",
       "Paint Brush  Paint Brush         603"
      ]
     },
     "execution_count": 12,
     "metadata": {},
     "output_type": "execute_result"
    }
   ],
   "source": [
    "# Change index column to be 'products' as pandas automatically plots values of index column as x axis values\n",
    "sales.index = sales['Products']\n",
    "# Create plot. Optionally specify the type of plot using the 'kind' parameter\n",
    "sales['Sale Count'].plot(kind=\"bar\")\n",
    "\n",
    "# Find out the highest number of sales of a single product in the DataFrame and assign it to a variable\n",
    "highest_sales = sales['Sale Count'].max()\n",
    "\n",
    "# Find out the name of the product that had the highest number of sales\n",
    "top_seller = sales['Products'][sales['Sale Count'] == highest_sales].values\n",
    "\n",
    "# Text that will be a comment on a particular point of the graph\n",
    "text = \"Top Seller\"\n",
    "\n",
    "# Add text to the plot\n",
    "plt.annotate(text, xy=(2, highest_sales), xytext=(2.4, 650),arrowprops=dict(facecolor='red', shrink=0.07), fontsize=13)\n",
    "plt.title('Shop Sales', fontsize=18)\n",
    "\n",
    "plt.show()\n",
    "\n",
    "print(\"Relevant data from DataFrame:\")\n",
    "sales[sales['Sale Count'] == highest_sales]"
   ]
  },
  {
   "cell_type": "markdown",
   "metadata": {},
   "source": [
    "For variety, let's take a look at another CSV file which holds a lot of data. The dataset I am going to use is a list of failed banks in the US since October 1st 2000, as compiled by the Federal Deposit Insurance Corporation. This dataset can be downloaded here: https://www.fdic.gov/bank/individual/failed/banklist.html.\n",
    "\n",
    "Once again, we can read in the data from our CSV file to a DataFrame object using <i>read_csv()</i>:"
   ]
  },
  {
   "cell_type": "code",
   "execution_count": 13,
   "metadata": {
    "collapsed": false
   },
   "outputs": [],
   "source": [
    "dframe = pd.read_csv(\"C:/Users/Niamh/Desktop/Programs/failedbanks.csv\")"
   ]
  },
  {
   "cell_type": "markdown",
   "metadata": {},
   "source": [
    "Let's check that our data was read in correctly by displaying the DataFrame; this is quite a large dataset so we will use a special function called <i>head()</i> to display the first 5 rows."
   ]
  },
  {
   "cell_type": "code",
   "execution_count": 14,
   "metadata": {
    "collapsed": false
   },
   "outputs": [
    {
     "data": {
      "text/html": [
       "<div>\n",
       "<table border=\"1\" class=\"dataframe\">\n",
       "  <thead>\n",
       "    <tr style=\"text-align: right;\">\n",
       "      <th></th>\n",
       "      <th>Bank Name</th>\n",
       "      <th>City</th>\n",
       "      <th>ST</th>\n",
       "      <th>CERT</th>\n",
       "      <th>Acquiring Institution</th>\n",
       "      <th>Closing Date</th>\n",
       "      <th>Updated Date</th>\n",
       "    </tr>\n",
       "  </thead>\n",
       "  <tbody>\n",
       "    <tr>\n",
       "      <th>0</th>\n",
       "      <td>First CornerStone Bank</td>\n",
       "      <td>King of Prussia</td>\n",
       "      <td>PA</td>\n",
       "      <td>35312</td>\n",
       "      <td>First-Citizens Bank &amp; Trust Company</td>\n",
       "      <td>06-May-16</td>\n",
       "      <td>25-May-16</td>\n",
       "    </tr>\n",
       "    <tr>\n",
       "      <th>1</th>\n",
       "      <td>Trust Company Bank</td>\n",
       "      <td>Memphis</td>\n",
       "      <td>TN</td>\n",
       "      <td>9956</td>\n",
       "      <td>The Bank of Fayette County</td>\n",
       "      <td>29-Apr-16</td>\n",
       "      <td>25-May-16</td>\n",
       "    </tr>\n",
       "    <tr>\n",
       "      <th>2</th>\n",
       "      <td>North Milwaukee State Bank</td>\n",
       "      <td>Milwaukee</td>\n",
       "      <td>WI</td>\n",
       "      <td>20364</td>\n",
       "      <td>First-Citizens Bank &amp; Trust Company</td>\n",
       "      <td>11-Mar-16</td>\n",
       "      <td>16-Jun-16</td>\n",
       "    </tr>\n",
       "    <tr>\n",
       "      <th>3</th>\n",
       "      <td>Hometown National Bank</td>\n",
       "      <td>Longview</td>\n",
       "      <td>WA</td>\n",
       "      <td>35156</td>\n",
       "      <td>Twin City Bank</td>\n",
       "      <td>02-Oct-15</td>\n",
       "      <td>13-Apr-16</td>\n",
       "    </tr>\n",
       "    <tr>\n",
       "      <th>4</th>\n",
       "      <td>The Bank of Georgia</td>\n",
       "      <td>Peachtree City</td>\n",
       "      <td>GA</td>\n",
       "      <td>35259</td>\n",
       "      <td>Fidelity Bank</td>\n",
       "      <td>02-Oct-15</td>\n",
       "      <td>13-Apr-16</td>\n",
       "    </tr>\n",
       "  </tbody>\n",
       "</table>\n",
       "</div>"
      ],
      "text/plain": [
       "                    Bank Name             City  ST   CERT  \\\n",
       "0      First CornerStone Bank  King of Prussia  PA  35312   \n",
       "1          Trust Company Bank          Memphis  TN   9956   \n",
       "2  North Milwaukee State Bank        Milwaukee  WI  20364   \n",
       "3      Hometown National Bank         Longview  WA  35156   \n",
       "4         The Bank of Georgia   Peachtree City  GA  35259   \n",
       "\n",
       "                 Acquiring Institution Closing Date Updated Date  \n",
       "0  First-Citizens Bank & Trust Company    06-May-16    25-May-16  \n",
       "1           The Bank of Fayette County    29-Apr-16    25-May-16  \n",
       "2  First-Citizens Bank & Trust Company    11-Mar-16    16-Jun-16  \n",
       "3                       Twin City Bank    02-Oct-15    13-Apr-16  \n",
       "4                        Fidelity Bank    02-Oct-15    13-Apr-16  "
      ]
     },
     "execution_count": 14,
     "metadata": {},
     "output_type": "execute_result"
    }
   ],
   "source": [
    "dframe.head()"
   ]
  },
  {
   "cell_type": "markdown",
   "metadata": {},
   "source": [
    "To display the first x rows, we can call <i>head(x)</i>. \n",
    "\n",
    "As you can see, <i>pandas</i> has created a neat table displaying the data from our CSV file, the first row from which is interpreted as the names of the columns. If we wanted the index column to contain something different as opposed to default indexing, we could do so by assigning this role to one of the dataset's columns, as shown below:"
   ]
  },
  {
   "cell_type": "code",
   "execution_count": 15,
   "metadata": {
    "collapsed": false
   },
   "outputs": [
    {
     "data": {
      "text/html": [
       "<div>\n",
       "<table border=\"1\" class=\"dataframe\">\n",
       "  <thead>\n",
       "    <tr style=\"text-align: right;\">\n",
       "      <th></th>\n",
       "      <th>Bank Name</th>\n",
       "      <th>City</th>\n",
       "      <th>ST</th>\n",
       "      <th>CERT</th>\n",
       "      <th>Acquiring Institution</th>\n",
       "      <th>Updated Date</th>\n",
       "    </tr>\n",
       "    <tr>\n",
       "      <th>Closing Date</th>\n",
       "      <th></th>\n",
       "      <th></th>\n",
       "      <th></th>\n",
       "      <th></th>\n",
       "      <th></th>\n",
       "      <th></th>\n",
       "    </tr>\n",
       "  </thead>\n",
       "  <tbody>\n",
       "    <tr>\n",
       "      <th>2016-05-06</th>\n",
       "      <td>First CornerStone Bank</td>\n",
       "      <td>King of Prussia</td>\n",
       "      <td>PA</td>\n",
       "      <td>35312</td>\n",
       "      <td>First-Citizens Bank &amp; Trust Company</td>\n",
       "      <td>25-May-16</td>\n",
       "    </tr>\n",
       "    <tr>\n",
       "      <th>2016-04-29</th>\n",
       "      <td>Trust Company Bank</td>\n",
       "      <td>Memphis</td>\n",
       "      <td>TN</td>\n",
       "      <td>9956</td>\n",
       "      <td>The Bank of Fayette County</td>\n",
       "      <td>25-May-16</td>\n",
       "    </tr>\n",
       "    <tr>\n",
       "      <th>2016-03-11</th>\n",
       "      <td>North Milwaukee State Bank</td>\n",
       "      <td>Milwaukee</td>\n",
       "      <td>WI</td>\n",
       "      <td>20364</td>\n",
       "      <td>First-Citizens Bank &amp; Trust Company</td>\n",
       "      <td>16-Jun-16</td>\n",
       "    </tr>\n",
       "    <tr>\n",
       "      <th>2015-10-02</th>\n",
       "      <td>Hometown National Bank</td>\n",
       "      <td>Longview</td>\n",
       "      <td>WA</td>\n",
       "      <td>35156</td>\n",
       "      <td>Twin City Bank</td>\n",
       "      <td>13-Apr-16</td>\n",
       "    </tr>\n",
       "    <tr>\n",
       "      <th>2015-10-02</th>\n",
       "      <td>The Bank of Georgia</td>\n",
       "      <td>Peachtree City</td>\n",
       "      <td>GA</td>\n",
       "      <td>35259</td>\n",
       "      <td>Fidelity Bank</td>\n",
       "      <td>13-Apr-16</td>\n",
       "    </tr>\n",
       "    <tr>\n",
       "      <th>2015-07-10</th>\n",
       "      <td>Premier Bank</td>\n",
       "      <td>Denver</td>\n",
       "      <td>CO</td>\n",
       "      <td>34112</td>\n",
       "      <td>United Fidelity Bank, fsb</td>\n",
       "      <td>17-Dec-15</td>\n",
       "    </tr>\n",
       "    <tr>\n",
       "      <th>2015-05-08</th>\n",
       "      <td>Edgebrook Bank</td>\n",
       "      <td>Chicago</td>\n",
       "      <td>IL</td>\n",
       "      <td>57772</td>\n",
       "      <td>Republic Bank of Chicago</td>\n",
       "      <td>02-Jun-16</td>\n",
       "    </tr>\n",
       "    <tr>\n",
       "      <th>2015-02-27</th>\n",
       "      <td>Doral Bank</td>\n",
       "      <td>San Juan</td>\n",
       "      <td>PR</td>\n",
       "      <td>32102</td>\n",
       "      <td>Banco Popular de Puerto Rico</td>\n",
       "      <td>13-May-15</td>\n",
       "    </tr>\n",
       "    <tr>\n",
       "      <th>2015-02-13</th>\n",
       "      <td>Capitol City Bank &amp; Trust Company</td>\n",
       "      <td>Atlanta</td>\n",
       "      <td>GA</td>\n",
       "      <td>33938</td>\n",
       "      <td>First-Citizens Bank &amp; Trust Company</td>\n",
       "      <td>21-Apr-15</td>\n",
       "    </tr>\n",
       "    <tr>\n",
       "      <th>2015-01-23</th>\n",
       "      <td>Highland Community Bank</td>\n",
       "      <td>Chicago</td>\n",
       "      <td>IL</td>\n",
       "      <td>20290</td>\n",
       "      <td>United Fidelity Bank, fsb</td>\n",
       "      <td>21-Apr-15</td>\n",
       "    </tr>\n",
       "  </tbody>\n",
       "</table>\n",
       "</div>"
      ],
      "text/plain": [
       "                                      Bank Name             City  ST   CERT  \\\n",
       "Closing Date                                                                  \n",
       "2016-05-06               First CornerStone Bank  King of Prussia  PA  35312   \n",
       "2016-04-29                   Trust Company Bank          Memphis  TN   9956   \n",
       "2016-03-11           North Milwaukee State Bank        Milwaukee  WI  20364   \n",
       "2015-10-02               Hometown National Bank         Longview  WA  35156   \n",
       "2015-10-02                  The Bank of Georgia   Peachtree City  GA  35259   \n",
       "2015-07-10                         Premier Bank           Denver  CO  34112   \n",
       "2015-05-08                       Edgebrook Bank          Chicago  IL  57772   \n",
       "2015-02-27                           Doral Bank         San Juan  PR  32102   \n",
       "2015-02-13    Capitol City Bank & Trust Company          Atlanta  GA  33938   \n",
       "2015-01-23              Highland Community Bank          Chicago  IL  20290   \n",
       "\n",
       "                            Acquiring Institution Updated Date  \n",
       "Closing Date                                                    \n",
       "2016-05-06    First-Citizens Bank & Trust Company    25-May-16  \n",
       "2016-04-29             The Bank of Fayette County    25-May-16  \n",
       "2016-03-11    First-Citizens Bank & Trust Company    16-Jun-16  \n",
       "2015-10-02                         Twin City Bank    13-Apr-16  \n",
       "2015-10-02                          Fidelity Bank    13-Apr-16  \n",
       "2015-07-10              United Fidelity Bank, fsb    17-Dec-15  \n",
       "2015-05-08               Republic Bank of Chicago    02-Jun-16  \n",
       "2015-02-27           Banco Popular de Puerto Rico    13-May-15  \n",
       "2015-02-13    First-Citizens Bank & Trust Company    21-Apr-15  \n",
       "2015-01-23              United Fidelity Bank, fsb    21-Apr-15  "
      ]
     },
     "execution_count": 15,
     "metadata": {},
     "output_type": "execute_result"
    }
   ],
   "source": [
    "dframe = pd.read_csv(\"C:/Users/Niamh/Desktop/Programs/failedbanks.csv\", index_col='Closing Date', encoding='latin1', \n",
    "                    parse_dates=['Closing Date'], dayfirst=True)\n",
    "dframe.head(10)"
   ]
  },
  {
   "cell_type": "markdown",
   "metadata": {},
   "source": [
    "The built-in function <i>tail()</i> works exactly the same as <i>head</i> except instead of operating on the rows at the start of the table, it operates on those at the end:"
   ]
  },
  {
   "cell_type": "code",
   "execution_count": 16,
   "metadata": {
    "collapsed": false
   },
   "outputs": [
    {
     "data": {
      "text/html": [
       "<div>\n",
       "<table border=\"1\" class=\"dataframe\">\n",
       "  <thead>\n",
       "    <tr style=\"text-align: right;\">\n",
       "      <th></th>\n",
       "      <th>Bank Name</th>\n",
       "      <th>City</th>\n",
       "      <th>ST</th>\n",
       "      <th>CERT</th>\n",
       "      <th>Acquiring Institution</th>\n",
       "      <th>Closing Date</th>\n",
       "      <th>Updated Date</th>\n",
       "    </tr>\n",
       "  </thead>\n",
       "  <tbody>\n",
       "    <tr>\n",
       "      <th>540</th>\n",
       "      <td>Superior Bank, FSB</td>\n",
       "      <td>Hinsdale</td>\n",
       "      <td>IL</td>\n",
       "      <td>32646</td>\n",
       "      <td>Superior Federal, FSB</td>\n",
       "      <td>27-Jul-01</td>\n",
       "      <td>19-Aug-14</td>\n",
       "    </tr>\n",
       "    <tr>\n",
       "      <th>541</th>\n",
       "      <td>Malta National Bank</td>\n",
       "      <td>Malta</td>\n",
       "      <td>OH</td>\n",
       "      <td>6629</td>\n",
       "      <td>North Valley Bank</td>\n",
       "      <td>03-May-01</td>\n",
       "      <td>18-Nov-02</td>\n",
       "    </tr>\n",
       "    <tr>\n",
       "      <th>542</th>\n",
       "      <td>First Alliance Bank &amp; Trust Co.</td>\n",
       "      <td>Manchester</td>\n",
       "      <td>NH</td>\n",
       "      <td>34264</td>\n",
       "      <td>Southern New Hampshire Bank &amp; Trust</td>\n",
       "      <td>02-Feb-01</td>\n",
       "      <td>18-Feb-03</td>\n",
       "    </tr>\n",
       "    <tr>\n",
       "      <th>543</th>\n",
       "      <td>National State Bank of Metropolis</td>\n",
       "      <td>Metropolis</td>\n",
       "      <td>IL</td>\n",
       "      <td>3815</td>\n",
       "      <td>Banterra Bank of Marion</td>\n",
       "      <td>14-Dec-00</td>\n",
       "      <td>17-Mar-05</td>\n",
       "    </tr>\n",
       "    <tr>\n",
       "      <th>544</th>\n",
       "      <td>Bank of Honolulu</td>\n",
       "      <td>Honolulu</td>\n",
       "      <td>HI</td>\n",
       "      <td>21029</td>\n",
       "      <td>Bank of the Orient</td>\n",
       "      <td>13-Oct-00</td>\n",
       "      <td>17-Mar-05</td>\n",
       "    </tr>\n",
       "  </tbody>\n",
       "</table>\n",
       "</div>"
      ],
      "text/plain": [
       "                             Bank Name        City  ST   CERT  \\\n",
       "540                 Superior Bank, FSB    Hinsdale  IL  32646   \n",
       "541                Malta National Bank       Malta  OH   6629   \n",
       "542    First Alliance Bank & Trust Co.  Manchester  NH  34264   \n",
       "543  National State Bank of Metropolis  Metropolis  IL   3815   \n",
       "544                   Bank of Honolulu    Honolulu  HI  21029   \n",
       "\n",
       "                   Acquiring Institution Closing Date Updated Date  \n",
       "540                Superior Federal, FSB    27-Jul-01    19-Aug-14  \n",
       "541                    North Valley Bank    03-May-01    18-Nov-02  \n",
       "542  Southern New Hampshire Bank & Trust    02-Feb-01    18-Feb-03  \n",
       "543              Banterra Bank of Marion    14-Dec-00    17-Mar-05  \n",
       "544                   Bank of the Orient    13-Oct-00    17-Mar-05  "
      ]
     },
     "execution_count": 16,
     "metadata": {},
     "output_type": "execute_result"
    }
   ],
   "source": [
    "dframe = pd.read_csv(\"C:/Users/Niamh/Desktop/Programs/failedbanks.csv\")\n",
    "\n",
    "# Displays last 5 rows by default\n",
    "dframe.tail()"
   ]
  },
  {
   "cell_type": "code",
   "execution_count": 22,
   "metadata": {
    "collapsed": false
   },
   "outputs": [
    {
     "data": {
      "text/html": [
       "<div>\n",
       "<table border=\"1\" class=\"dataframe\">\n",
       "  <thead>\n",
       "    <tr style=\"text-align: right;\">\n",
       "      <th></th>\n",
       "      <th>Bank Name</th>\n",
       "      <th>City</th>\n",
       "      <th>ST</th>\n",
       "      <th>CERT</th>\n",
       "      <th>Acquiring Institution</th>\n",
       "      <th>Closing Date</th>\n",
       "      <th>Updated Date</th>\n",
       "    </tr>\n",
       "  </thead>\n",
       "  <tbody>\n",
       "    <tr>\n",
       "      <th>537</th>\n",
       "      <td>Bank of Sierra Blanca</td>\n",
       "      <td>Sierra Blanca</td>\n",
       "      <td>TX</td>\n",
       "      <td>22002</td>\n",
       "      <td>The Security State Bank of Pecos</td>\n",
       "      <td>18-Jan-02</td>\n",
       "      <td>06-Nov-03</td>\n",
       "    </tr>\n",
       "    <tr>\n",
       "      <th>538</th>\n",
       "      <td>Hamilton Bank, NA</td>\n",
       "      <td>Miami</td>\n",
       "      <td>FL</td>\n",
       "      <td>24382</td>\n",
       "      <td>Israel Discount Bank of New York</td>\n",
       "      <td>11-Jan-02</td>\n",
       "      <td>21-Sep-15</td>\n",
       "    </tr>\n",
       "    <tr>\n",
       "      <th>539</th>\n",
       "      <td>Sinclair National Bank</td>\n",
       "      <td>Gravette</td>\n",
       "      <td>AR</td>\n",
       "      <td>34248</td>\n",
       "      <td>Delta Trust &amp; Bank</td>\n",
       "      <td>07-Sep-01</td>\n",
       "      <td>10-Feb-04</td>\n",
       "    </tr>\n",
       "    <tr>\n",
       "      <th>540</th>\n",
       "      <td>Superior Bank, FSB</td>\n",
       "      <td>Hinsdale</td>\n",
       "      <td>IL</td>\n",
       "      <td>32646</td>\n",
       "      <td>Superior Federal, FSB</td>\n",
       "      <td>27-Jul-01</td>\n",
       "      <td>19-Aug-14</td>\n",
       "    </tr>\n",
       "    <tr>\n",
       "      <th>541</th>\n",
       "      <td>Malta National Bank</td>\n",
       "      <td>Malta</td>\n",
       "      <td>OH</td>\n",
       "      <td>6629</td>\n",
       "      <td>North Valley Bank</td>\n",
       "      <td>03-May-01</td>\n",
       "      <td>18-Nov-02</td>\n",
       "    </tr>\n",
       "    <tr>\n",
       "      <th>542</th>\n",
       "      <td>First Alliance Bank &amp; Trust Co.</td>\n",
       "      <td>Manchester</td>\n",
       "      <td>NH</td>\n",
       "      <td>34264</td>\n",
       "      <td>Southern New Hampshire Bank &amp; Trust</td>\n",
       "      <td>02-Feb-01</td>\n",
       "      <td>18-Feb-03</td>\n",
       "    </tr>\n",
       "    <tr>\n",
       "      <th>543</th>\n",
       "      <td>National State Bank of Metropolis</td>\n",
       "      <td>Metropolis</td>\n",
       "      <td>IL</td>\n",
       "      <td>3815</td>\n",
       "      <td>Banterra Bank of Marion</td>\n",
       "      <td>14-Dec-00</td>\n",
       "      <td>17-Mar-05</td>\n",
       "    </tr>\n",
       "    <tr>\n",
       "      <th>544</th>\n",
       "      <td>Bank of Honolulu</td>\n",
       "      <td>Honolulu</td>\n",
       "      <td>HI</td>\n",
       "      <td>21029</td>\n",
       "      <td>Bank of the Orient</td>\n",
       "      <td>13-Oct-00</td>\n",
       "      <td>17-Mar-05</td>\n",
       "    </tr>\n",
       "  </tbody>\n",
       "</table>\n",
       "</div>"
      ],
      "text/plain": [
       "                             Bank Name           City  ST   CERT  \\\n",
       "537              Bank of Sierra Blanca  Sierra Blanca  TX  22002   \n",
       "538                  Hamilton Bank, NA          Miami  FL  24382   \n",
       "539             Sinclair National Bank       Gravette  AR  34248   \n",
       "540                 Superior Bank, FSB       Hinsdale  IL  32646   \n",
       "541                Malta National Bank          Malta  OH   6629   \n",
       "542    First Alliance Bank & Trust Co.     Manchester  NH  34264   \n",
       "543  National State Bank of Metropolis     Metropolis  IL   3815   \n",
       "544                   Bank of Honolulu       Honolulu  HI  21029   \n",
       "\n",
       "                   Acquiring Institution Closing Date Updated Date  \n",
       "537     The Security State Bank of Pecos    18-Jan-02    06-Nov-03  \n",
       "538     Israel Discount Bank of New York    11-Jan-02    21-Sep-15  \n",
       "539                   Delta Trust & Bank    07-Sep-01    10-Feb-04  \n",
       "540                Superior Federal, FSB    27-Jul-01    19-Aug-14  \n",
       "541                    North Valley Bank    03-May-01    18-Nov-02  \n",
       "542  Southern New Hampshire Bank & Trust    02-Feb-01    18-Feb-03  \n",
       "543              Banterra Bank of Marion    14-Dec-00    17-Mar-05  \n",
       "544                   Bank of the Orient    13-Oct-00    17-Mar-05  "
      ]
     },
     "execution_count": 22,
     "metadata": {},
     "output_type": "execute_result"
    }
   ],
   "source": [
    "# Displays the last n rows\n",
    "dframe.tail(8)"
   ]
  },
  {
   "cell_type": "markdown",
   "metadata": {},
   "source": [
    "As well as retrieving a specific number of rows, we can also retrieve specific columns:"
   ]
  },
  {
   "cell_type": "code",
   "execution_count": 23,
   "metadata": {
    "collapsed": false
   },
   "outputs": [
    {
     "data": {
      "text/html": [
       "<div>\n",
       "<table border=\"1\" class=\"dataframe\">\n",
       "  <thead>\n",
       "    <tr style=\"text-align: right;\">\n",
       "      <th></th>\n",
       "      <th>Bank Name</th>\n",
       "      <th>City</th>\n",
       "      <th>Closing Date</th>\n",
       "    </tr>\n",
       "  </thead>\n",
       "  <tbody>\n",
       "    <tr>\n",
       "      <th>0</th>\n",
       "      <td>First CornerStone Bank</td>\n",
       "      <td>King of Prussia</td>\n",
       "      <td>06-May-16</td>\n",
       "    </tr>\n",
       "    <tr>\n",
       "      <th>1</th>\n",
       "      <td>Trust Company Bank</td>\n",
       "      <td>Memphis</td>\n",
       "      <td>29-Apr-16</td>\n",
       "    </tr>\n",
       "    <tr>\n",
       "      <th>2</th>\n",
       "      <td>North Milwaukee State Bank</td>\n",
       "      <td>Milwaukee</td>\n",
       "      <td>11-Mar-16</td>\n",
       "    </tr>\n",
       "    <tr>\n",
       "      <th>3</th>\n",
       "      <td>Hometown National Bank</td>\n",
       "      <td>Longview</td>\n",
       "      <td>02-Oct-15</td>\n",
       "    </tr>\n",
       "    <tr>\n",
       "      <th>4</th>\n",
       "      <td>The Bank of Georgia</td>\n",
       "      <td>Peachtree City</td>\n",
       "      <td>02-Oct-15</td>\n",
       "    </tr>\n",
       "  </tbody>\n",
       "</table>\n",
       "</div>"
      ],
      "text/plain": [
       "                    Bank Name             City Closing Date\n",
       "0      First CornerStone Bank  King of Prussia    06-May-16\n",
       "1          Trust Company Bank          Memphis    29-Apr-16\n",
       "2  North Milwaukee State Bank        Milwaukee    11-Mar-16\n",
       "3      Hometown National Bank         Longview    02-Oct-15\n",
       "4         The Bank of Georgia   Peachtree City    02-Oct-15"
      ]
     },
     "execution_count": 23,
     "metadata": {},
     "output_type": "execute_result"
    }
   ],
   "source": [
    "dframe[['Bank Name', 'City', 'Closing Date']].head()"
   ]
  },
  {
   "cell_type": "markdown",
   "metadata": {},
   "source": [
    "Or just a single column of interest:"
   ]
  },
  {
   "cell_type": "code",
   "execution_count": 24,
   "metadata": {
    "collapsed": false
   },
   "outputs": [
    {
     "data": {
      "text/html": [
       "<div>\n",
       "<table border=\"1\" class=\"dataframe\">\n",
       "  <thead>\n",
       "    <tr style=\"text-align: right;\">\n",
       "      <th></th>\n",
       "      <th>Bank Name</th>\n",
       "    </tr>\n",
       "  </thead>\n",
       "  <tbody>\n",
       "    <tr>\n",
       "      <th>0</th>\n",
       "      <td>First CornerStone Bank</td>\n",
       "    </tr>\n",
       "    <tr>\n",
       "      <th>1</th>\n",
       "      <td>Trust Company Bank</td>\n",
       "    </tr>\n",
       "    <tr>\n",
       "      <th>2</th>\n",
       "      <td>North Milwaukee State Bank</td>\n",
       "    </tr>\n",
       "    <tr>\n",
       "      <th>3</th>\n",
       "      <td>Hometown National Bank</td>\n",
       "    </tr>\n",
       "    <tr>\n",
       "      <th>4</th>\n",
       "      <td>The Bank of Georgia</td>\n",
       "    </tr>\n",
       "  </tbody>\n",
       "</table>\n",
       "</div>"
      ],
      "text/plain": [
       "                    Bank Name\n",
       "0      First CornerStone Bank\n",
       "1          Trust Company Bank\n",
       "2  North Milwaukee State Bank\n",
       "3      Hometown National Bank\n",
       "4         The Bank of Georgia"
      ]
     },
     "execution_count": 24,
     "metadata": {},
     "output_type": "execute_result"
    }
   ],
   "source": [
    "dframe[['Bank Name']].head()"
   ]
  },
  {
   "cell_type": "markdown",
   "metadata": {},
   "source": [
    "## Analysing the data:"
   ]
  },
  {
   "cell_type": "markdown",
   "metadata": {},
   "source": [
    "A very useful pandas function which provides the user with the ability to find out the number of instances of a particular entry in a DataFrame is <i>value_counts()</i>. \n",
    "\n",
    "To illustrate the application of this function, let's identify and plot the names of the top 5 cities in which the most banks fail:"
   ]
  },
  {
   "cell_type": "code",
   "execution_count": 25,
   "metadata": {
    "collapsed": false
   },
   "outputs": [
    {
     "data": {
      "text/plain": [
       "Chicago      18\n",
       "Atlanta      10\n",
       "Phoenix       6\n",
       "Naples        5\n",
       "Las Vegas     4\n",
       "Name: City, dtype: int64"
      ]
     },
     "execution_count": 25,
     "metadata": {},
     "output_type": "execute_result"
    }
   ],
   "source": [
    "#Find out the number of times each city appears in the DataFrame. The output is displayed from highest to lowest number of instances.\n",
    "city_count = dframe['City'].value_counts()\n",
    "#Extract the top 5 cities from the above extraction\n",
    "top_5 = city_count.head()\n",
    "#Display the top 5 cities\n",
    "top_5"
   ]
  },
  {
   "cell_type": "markdown",
   "metadata": {},
   "source": [
    "We can then easily plot this information using the <i>plot()</i> function, like we did above:"
   ]
  },
  {
   "cell_type": "code",
   "execution_count": 26,
   "metadata": {
    "collapsed": false
   },
   "outputs": [
    {
     "data": {
      "text/plain": [
       "<matplotlib.text.Text at 0x80b8d90>"
      ]
     },
     "execution_count": 26,
     "metadata": {},
     "output_type": "execute_result"
    },
    {
     "data": {
      "image/png": "[encoded data removed]",
      "text/plain": [
       "<matplotlib.figure.Figure at 0x7eeafb0>"
      ]
     },
     "metadata": {},
     "output_type": "display_data"
    }
   ],
   "source": [
    "#Create graph\n",
    "top_5.plot(kind='bar')\n",
    "#Give the graph a title\n",
    "plt.title(\"Failed Banks Per City\", fontsize=18)"
   ]
  },
  {
   "cell_type": "markdown",
   "metadata": {},
   "source": [
    "The default type of graph created by the <i>plot()</i> function is a line graph. However, as shown above, we can generate different types of graph using the <i>kind</i> parameter. It takes in one of several possible parameters:\n",
    "\n",
    "- <b>‘line’</b> : line plot (default)\n",
    "- <b>‘bar’</b> : vertical bar plot\n",
    "- <b>‘barh’</b> : horizontal bar plot\n",
    "- <b>‘hist’</b> : histogram\n",
    "- <b>‘box’</b> : boxplot\n",
    "- <b>‘kde’</b> : Kernel Density Estimation plot\n",
    "- <b>‘density’</b> : same as ‘kde’\n",
    "- <b>‘area’</b> : area plot\n",
    "- <b>‘pie’</b> : pie plot\n",
    "- <b>‘scatter’</b> : scatter plot\n",
    "- <b>‘hexbin’</b> : hexbin plot"
   ]
  },
  {
   "cell_type": "markdown",
   "metadata": {},
   "source": [
    "For example:"
   ]
  },
  {
   "cell_type": "code",
   "execution_count": 27,
   "metadata": {
    "collapsed": false
   },
   "outputs": [
    {
     "data": {
      "text/plain": [
       "<matplotlib.text.Text at 0x80f9cd0>"
      ]
     },
     "execution_count": 27,
     "metadata": {},
     "output_type": "execute_result"
    },
    {
     "data": {
      "image/png": "[encoded data removed]",
      "text/plain": [
       "<matplotlib.figure.Figure at 0x7f75f70>"
      ]
     },
     "metadata": {},
     "output_type": "display_data"
    }
   ],
   "source": [
    "top_5.plot(kind='barh')\n",
    "plt.title(\"Failed Banks Per City\", fontsize=18)"
   ]
  },
  {
   "cell_type": "markdown",
   "metadata": {},
   "source": [
    "Let's look at more ways in which we can filter the results we receive when querying a DataFrame.\n",
    "\n",
    "Say you are intrigued by the fact that Chicago is where the most banks have failed since 1st October 2000 and want to view a few DataFrame entries for banks that failed in that city:"
   ]
  },
  {
   "cell_type": "code",
   "execution_count": 28,
   "metadata": {
    "collapsed": false
   },
   "outputs": [
    {
     "data": {
      "text/html": [
       "<div>\n",
       "<table border=\"1\" class=\"dataframe\">\n",
       "  <thead>\n",
       "    <tr style=\"text-align: right;\">\n",
       "      <th></th>\n",
       "      <th>Bank Name</th>\n",
       "      <th>City</th>\n",
       "      <th>ST</th>\n",
       "      <th>CERT</th>\n",
       "      <th>Acquiring Institution</th>\n",
       "      <th>Closing Date</th>\n",
       "      <th>Updated Date</th>\n",
       "    </tr>\n",
       "  </thead>\n",
       "  <tbody>\n",
       "    <tr>\n",
       "      <th>6</th>\n",
       "      <td>Edgebrook Bank</td>\n",
       "      <td>Chicago</td>\n",
       "      <td>IL</td>\n",
       "      <td>57772</td>\n",
       "      <td>Republic Bank of Chicago</td>\n",
       "      <td>08-May-15</td>\n",
       "      <td>02-Jun-16</td>\n",
       "    </tr>\n",
       "    <tr>\n",
       "      <th>9</th>\n",
       "      <td>Highland Community Bank</td>\n",
       "      <td>Chicago</td>\n",
       "      <td>IL</td>\n",
       "      <td>20290</td>\n",
       "      <td>United Fidelity Bank, fsb</td>\n",
       "      <td>23-Jan-15</td>\n",
       "      <td>21-Apr-15</td>\n",
       "    </tr>\n",
       "    <tr>\n",
       "      <th>13</th>\n",
       "      <td>The National Republic Bank of Chicago</td>\n",
       "      <td>Chicago</td>\n",
       "      <td>IL</td>\n",
       "      <td>916</td>\n",
       "      <td>State Bank of Texas</td>\n",
       "      <td>24-Oct-14</td>\n",
       "      <td>06-Jan-16</td>\n",
       "    </tr>\n",
       "    <tr>\n",
       "      <th>15</th>\n",
       "      <td>GreenChoice Bank, fsb</td>\n",
       "      <td>Chicago</td>\n",
       "      <td>IL</td>\n",
       "      <td>28462</td>\n",
       "      <td>Providence Bank, LLC</td>\n",
       "      <td>25-Jul-14</td>\n",
       "      <td>28-Jul-15</td>\n",
       "    </tr>\n",
       "    <tr>\n",
       "      <th>50</th>\n",
       "      <td>Covenant Bank</td>\n",
       "      <td>Chicago</td>\n",
       "      <td>IL</td>\n",
       "      <td>22476</td>\n",
       "      <td>Liberty Bank and Trust Company</td>\n",
       "      <td>15-Feb-13</td>\n",
       "      <td>21-Sep-15</td>\n",
       "    </tr>\n",
       "  </tbody>\n",
       "</table>\n",
       "</div>"
      ],
      "text/plain": [
       "                                Bank Name     City  ST   CERT  \\\n",
       "6                          Edgebrook Bank  Chicago  IL  57772   \n",
       "9                 Highland Community Bank  Chicago  IL  20290   \n",
       "13  The National Republic Bank of Chicago  Chicago  IL    916   \n",
       "15                  GreenChoice Bank, fsb  Chicago  IL  28462   \n",
       "50                          Covenant Bank  Chicago  IL  22476   \n",
       "\n",
       "             Acquiring Institution Closing Date Updated Date  \n",
       "6         Republic Bank of Chicago    08-May-15    02-Jun-16  \n",
       "9        United Fidelity Bank, fsb    23-Jan-15    21-Apr-15  \n",
       "13             State Bank of Texas    24-Oct-14    06-Jan-16  \n",
       "15            Providence Bank, LLC    25-Jul-14    28-Jul-15  \n",
       "50  Liberty Bank and Trust Company    15-Feb-13    21-Sep-15  "
      ]
     },
     "execution_count": 28,
     "metadata": {},
     "output_type": "execute_result"
    }
   ],
   "source": [
    "chicago_banks = dframe[dframe['City'] == \"Chicago\"]\n",
    "chicago_banks.head()"
   ]
  },
  {
   "cell_type": "markdown",
   "metadata": {},
   "source": [
    "Pandas extracts which banks are from Chicago and which are not by checking, for each row of the DataFrame, whether the statement \n",
    "\n",
    "            dframe['City'] == \"Chicago\"\n",
    "\n",
    "is true or false. Only those which evaluate to <i>True</i> will be added to the new DataFrame. The checking process can be viewed simply by executing the aforementioned Boolean expression:"
   ]
  },
  {
   "cell_type": "code",
   "execution_count": 29,
   "metadata": {
    "collapsed": false
   },
   "outputs": [
    {
     "data": {
      "text/plain": [
       "0      False\n",
       "1      False\n",
       "2      False\n",
       "3      False\n",
       "4      False\n",
       "5      False\n",
       "6       True\n",
       "7      False\n",
       "8      False\n",
       "9       True\n",
       "10     False\n",
       "11     False\n",
       "12     False\n",
       "13      True\n",
       "14     False\n",
       "15      True\n",
       "16     False\n",
       "17     False\n",
       "18     False\n",
       "19     False\n",
       "20     False\n",
       "21     False\n",
       "22     False\n",
       "23     False\n",
       "24     False\n",
       "25     False\n",
       "26     False\n",
       "27     False\n",
       "28     False\n",
       "29     False\n",
       "       ...  \n",
       "515    False\n",
       "516    False\n",
       "517    False\n",
       "518    False\n",
       "519    False\n",
       "520    False\n",
       "521    False\n",
       "522    False\n",
       "523    False\n",
       "524    False\n",
       "525    False\n",
       "526    False\n",
       "527    False\n",
       "528    False\n",
       "529    False\n",
       "530    False\n",
       "531     True\n",
       "532    False\n",
       "533    False\n",
       "534    False\n",
       "535    False\n",
       "536    False\n",
       "537    False\n",
       "538    False\n",
       "539    False\n",
       "540    False\n",
       "541    False\n",
       "542    False\n",
       "543    False\n",
       "544    False\n",
       "Name: City, dtype: bool"
      ]
     },
     "execution_count": 29,
     "metadata": {},
     "output_type": "execute_result"
    }
   ],
   "source": [
    "dframe['City'] == \"Chicago\""
   ]
  },
  {
   "cell_type": "markdown",
   "metadata": {},
   "source": [
    "You can apply more than one condition to the results you get by making use of the <b>&</b> operator:"
   ]
  },
  {
   "cell_type": "code",
   "execution_count": 30,
   "metadata": {
    "collapsed": false
   },
   "outputs": [
    {
     "data": {
      "text/html": [
       "<div>\n",
       "<table border=\"1\" class=\"dataframe\">\n",
       "  <thead>\n",
       "    <tr style=\"text-align: right;\">\n",
       "      <th></th>\n",
       "      <th>Bank Name</th>\n",
       "      <th>City</th>\n",
       "      <th>ST</th>\n",
       "      <th>CERT</th>\n",
       "      <th>Acquiring Institution</th>\n",
       "      <th>Closing Date</th>\n",
       "      <th>Updated Date</th>\n",
       "    </tr>\n",
       "  </thead>\n",
       "  <tbody>\n",
       "    <tr>\n",
       "      <th>13</th>\n",
       "      <td>The National Republic Bank of Chicago</td>\n",
       "      <td>Chicago</td>\n",
       "      <td>IL</td>\n",
       "      <td>916</td>\n",
       "      <td>State Bank of Texas</td>\n",
       "      <td>24-Oct-14</td>\n",
       "      <td>06-Jan-16</td>\n",
       "    </tr>\n",
       "  </tbody>\n",
       "</table>\n",
       "</div>"
      ],
      "text/plain": [
       "                                Bank Name     City  ST  CERT  \\\n",
       "13  The National Republic Bank of Chicago  Chicago  IL   916   \n",
       "\n",
       "   Acquiring Institution Closing Date Updated Date  \n",
       "13   State Bank of Texas    24-Oct-14    06-Jan-16  "
      ]
     },
     "execution_count": 30,
     "metadata": {},
     "output_type": "execute_result"
    }
   ],
   "source": [
    "# First condition\n",
    "from_chicago = dframe['City'] == 'Chicago'\n",
    "# Second condition\n",
    "has_cert_916 = dframe['CERT'] == 916\n",
    "# Combine conditions\n",
    "dframe[from_chicago & has_cert_916]"
   ]
  },
  {
   "cell_type": "markdown",
   "metadata": {},
   "source": [
    "If we want to find out the names of all cities that appeared in the list of failed banks, we could do what we did earlier:"
   ]
  },
  {
   "cell_type": "code",
   "execution_count": 31,
   "metadata": {
    "collapsed": false
   },
   "outputs": [
    {
     "data": {
      "text/plain": [
       "0      King of Prussia\n",
       "1              Memphis\n",
       "2            Milwaukee\n",
       "3             Longview\n",
       "4       Peachtree City\n",
       "5               Denver\n",
       "6              Chicago\n",
       "7             San Juan\n",
       "8              Atlanta\n",
       "9              Chicago\n",
       "10           Crestview\n",
       "11             Mankato\n",
       "12         Palm Desert\n",
       "13             Chicago\n",
       "14          Rising Sun\n",
       "15             Chicago\n",
       "16             Conyers\n",
       "17             Freedom\n",
       "18     Fort Lauderdale\n",
       "19              Moline\n",
       "20             Bel Air\n",
       "21          Cincinnati\n",
       "22              Berwyn\n",
       "23             Fairfax\n",
       "24             Horsham\n",
       "25            Sterling\n",
       "26               Boise\n",
       "27             El Reno\n",
       "28        West Chicago\n",
       "29       The Woodlands\n",
       "            ...       \n",
       "515        Bentonville\n",
       "516               Hume\n",
       "517        Kansas City\n",
       "518           Lakeview\n",
       "519         Alpharetta\n",
       "520         Pittsburgh\n",
       "521            Ephraim\n",
       "522       White Plains\n",
       "523        Tallahassee\n",
       "524             Newark\n",
       "525       Philadelphia\n",
       "526     Blanchardville\n",
       "527           Torrance\n",
       "528        Cheneyville\n",
       "529              Alamo\n",
       "530            Atlanta\n",
       "531            Chicago\n",
       "532           Stamford\n",
       "533    Shelby Township\n",
       "534         Boca Raton\n",
       "535            Phoenix\n",
       "536            Oakwood\n",
       "537      Sierra Blanca\n",
       "538              Miami\n",
       "539           Gravette\n",
       "540           Hinsdale\n",
       "541              Malta\n",
       "542         Manchester\n",
       "543         Metropolis\n",
       "544           Honolulu\n",
       "Name: City, dtype: object"
      ]
     },
     "execution_count": 31,
     "metadata": {},
     "output_type": "execute_result"
    }
   ],
   "source": [
    "dframe['City']"
   ]
  },
  {
   "cell_type": "markdown",
   "metadata": {},
   "source": [
    "However, this list contains many duplicates. To find all of the unique cities in the table, we can use the pandas function <i>unique()</i>:"
   ]
  },
  {
   "cell_type": "code",
   "execution_count": 32,
   "metadata": {
    "collapsed": false
   },
   "outputs": [
    {
     "data": {
      "text/plain": [
       "array(['King of Prussia', 'Memphis', 'Milwaukee', 'Longview',\n",
       "       'Peachtree City', 'Denver', 'Chicago', 'San Juan', 'Atlanta',\n",
       "       'Crestview', 'Mankato', 'Palm Desert', 'Rising Sun', 'Conyers',\n",
       "       'Freedom', 'Fort Lauderdale', 'Moline', 'Bel Air', 'Cincinnati',\n",
       "       'Berwyn', 'Fairfax', 'Horsham', 'Sterling', 'Boise', 'El Reno',\n",
       "       'West Chicago', 'The Woodlands', 'Graceville', 'Edinburg',\n",
       "       'Bridgeport', 'Phoenix', 'Parsons', 'Wausau', 'Fort Myers',\n",
       "       'Sevierville', 'North Las Vegas', 'Kenosha', 'Scottsdale',\n",
       "       'Valdosta', 'Asheville', 'Douglasville', 'Lenoir', 'Marianna',\n",
       "       'Orange Park', 'Lexington', 'Gold Canyon', 'LaGrange', 'Andover',\n",
       "       'University Place', 'Sunrise Beach', 'Braselton', 'Princeton',\n",
       "       'Lutz', 'Sedalia', 'Tamarac', 'Destin', 'Crete', 'St. Louis',\n",
       "       'Bloomington', 'Waukegan', 'Jasper', 'Leawood', 'Woodstock',\n",
       "       'Buford', 'Naples', 'Glasgow', 'Ailey', 'Lynchburg', 'Marietta',\n",
       "       'Palatka', 'Whiteville', 'Shabbona', 'Charleston', 'Kingfisher',\n",
       "       'Sylacauga', 'North Lauderdale', 'Pawleys Island', 'Maple Grove',\n",
       "       'Gaithersburg', 'Cambridge', 'Fort Lee', 'Dearborn', 'Wilmette',\n",
       "       'Rock Spring', 'Doraville', 'Little Falls', 'Ellaville',\n",
       "       'Shelbyville', 'Hoffman Estates', 'Knoxville', 'Forest Lake',\n",
       "       'Franklin', 'Jacksonville', 'Boothwyn', 'Stockbridge', 'Belleview',\n",
       "       'Lacombe', 'Johnston', 'Rockmart', 'Saint George', 'Omaha',\n",
       "       'Des Plaines', 'Greenwood Village', 'Jonesboro', 'Decatur',\n",
       "       'Clearwater', 'Aledo', 'Cranford', 'Gray', 'Ellington', 'Wyoming',\n",
       "       'Plano', 'Nevada City', 'Norfolk', 'Milton', 'Cumming', 'Geneva',\n",
       "       'Statesboro', 'Palm Beach', 'Huntingdon Valley', 'Olathe', 'Colfax',\n",
       "       'Shorewood', 'Evansville', 'Columbia', 'Richmond', 'Greeley',\n",
       "       'Sarasota', 'Apollo Beach', 'Prescott', 'Port St. Lucie', 'Windsor',\n",
       "       'Castle Rock', 'Clayton', 'Tampa', 'Jackson', 'Snohomish',\n",
       "       'Burlington', 'Macon', 'Cocoa Beach', 'Mount Clemens', 'Dallas',\n",
       "       'Brooksville', 'Winter Park', 'Carthage', 'Rosemount', 'Birmingham',\n",
       "       'East Ellijay', 'Cartersville', 'Las Vegas', 'Western Springs',\n",
       "       'Wood Dale', 'Davis', 'St. Charles', 'San Luis Obispo', 'Napa',\n",
       "       'Springfield', 'Clarkesville', 'Palm Springs', 'Cassville',\n",
       "       'Hamtramck', 'Port Orange', 'Watkinsville', 'Roswell', 'Taos',\n",
       "       'Louisville', 'Stoughton', 'Camargo', 'Easley', 'McDonough',\n",
       "       'Brunswick', 'Orlando', 'Lino Lakes', 'Batesville', 'McCaysville',\n",
       "       'Dawsonville', 'Coral Gables', 'Southampton', 'Farmington Hills',\n",
       "       'Bala Cynwyd', 'Carrabelle', 'Vidalia', 'Tifton', 'Westminster',\n",
       "       'Tacoma', 'Woodland Hills', 'Randallstown', 'Overland Park',\n",
       "       'Maywood', 'Barnesville', 'Gordon', 'Jefferson City',\n",
       "       'Chesterfield', 'Shoreline', 'Crawfordville', 'Arlington',\n",
       "       'Ponte Vedra Beach', 'West Allis', 'Milford', 'Winder', 'Ellijay',\n",
       "       'Cherry Hill', 'Bradenton', 'Sonoma', 'Solvang', 'Chico',\n",
       "       'Stockton', 'Martinsville', 'Ocala', 'Bartow', 'Palos Heights',\n",
       "       'Eugene', 'Panama City Beach', 'Port Saint Joe', 'Acworth',\n",
       "       'Cave Junction', 'New Prague', 'Sylvan Grove', 'Kingstree',\n",
       "       'Lantana', 'Hastings', 'Clewiston', 'Aventura', 'Miami',\n",
       "       'Spartanburg', 'Bluffton', 'Blackwell', 'Port Chester', 'Baltimore',\n",
       "       'Albuquerque', 'Savannah', 'Englewood', 'Reno', 'Seattle',\n",
       "       'Lincoln', 'Arcola', 'Rosedale', 'Granite Bay', 'Saint Paul',\n",
       "       'Elmwood Park', 'Plymouth', 'Saint Marys', 'San Diego', 'Mesa',\n",
       "       'Champlin', 'Bonifay', 'Everett', 'Butler', 'Creve Coeur',\n",
       "       'Port Huron', 'Mayaguez', 'Hato Rey', 'Naperville', 'Peotone',\n",
       "       'Rockford', 'Lynnwood', 'San Rafael', 'Oakland', 'Lowell',\n",
       "       'Fort Pierce', 'Clermont', 'Sterling Heights', 'Myrtle Beach',\n",
       "       'Key West', 'Carrollton', 'Aurora', 'Fort Deposit', 'Hiawassee',\n",
       "       'Draper', 'Duluth', 'Parma', 'Covington', 'New York', 'Ogden',\n",
       "       'Germantown', 'Normal', 'Boca Raton', 'Carson City', 'La Jolla',\n",
       "       'Orland Park', 'La Coste', 'Marco Island', 'Hancock',\n",
       "       'Bainbridge Island', 'Los Angeles', 'Cornelia', 'Hallock',\n",
       "       'Immokalee', 'The Dalles', 'Santa Fe', 'Leeton', 'Kaysville',\n",
       "       'St. Stephen', 'Antioch', 'Bellingham', 'Santa Monica', 'Irondale',\n",
       "       'New Baltimore', 'Panama City', 'Reston', 'Cleveland', 'Reidsville',\n",
       "       'Norcross', 'San Clemente', 'San Francisco', 'Oakdale', 'Detroit',\n",
       "       'Sparta', 'Houston', 'Madisonville', 'Teague', 'Lemont', 'Westmont',\n",
       "       'Otsego', 'Racine', 'Lawrenceville', 'Bakersfield', 'Pueblo',\n",
       "       'Spring Grove', 'Warren', 'Columbus', 'Lacey', 'Woodbury',\n",
       "       'Flagstaff', 'Rolling Meadows', 'Sioux City', 'Oak Forest',\n",
       "       'Kansas City', 'Ventura', 'Austin', 'Newnan', 'Gilbert',\n",
       "       'Montgomery', 'Pittsburgh', 'Prineville', 'Venice', 'Harvey',\n",
       "       'Elizabeth', 'West Chester', 'Jupiter', 'Altus', 'Perry',\n",
       "       'Alpharetta', 'Suwanee', 'Williamsville', 'Temecula',\n",
       "       'Rancho Cucamonga', 'Sioux Falls', 'Thermopolis', 'Worth',\n",
       "       'Danville', 'Oregon', 'Winchester', 'Clinton', 'Irvine',\n",
       "       'Pine City', 'Villa Rica', 'Anthony', 'Wilmington', 'Fayetteville',\n",
       "       'Lincolnwood', 'Macomb', 'Champaign', 'Bremerton', 'Layton',\n",
       "       'Ridgewood', 'Ketchum', 'Calabasas', 'Kennesaw', 'Elko',\n",
       "       'Sugar Creek', 'Paola', 'Colorado Springs', 'Commerce', 'Henderson',\n",
       "       'Glenwood', 'Silverton', 'Beaverton', 'Pittsfield', 'Cape Coral',\n",
       "       'Loup City', 'Merced', 'Culver City', 'Crofton', 'Salt Lake City',\n",
       "       'Redlands', 'Vancouver', 'Berkeley', 'Sanderson', 'Pomona',\n",
       "       'Newport Beach', 'Loganville', 'Eldred', 'Northville', 'Northfork',\n",
       "       'Topeka', 'Pasadena', 'Staples', 'Bentonville', 'Hume', 'Lakeview',\n",
       "       'Ephraim', 'White Plains', 'Tallahassee', 'Newark', 'Philadelphia',\n",
       "       'Blanchardville', 'Torrance', 'Cheneyville', 'Alamo', 'Stamford',\n",
       "       'Shelby Township', 'Oakwood', 'Sierra Blanca', 'Gravette',\n",
       "       'Hinsdale', 'Malta', 'Manchester', 'Metropolis', 'Honolulu'], dtype=object)"
      ]
     },
     "execution_count": 32,
     "metadata": {},
     "output_type": "execute_result"
    }
   ],
   "source": [
    "dframe['City'].unique()"
   ]
  },
  {
   "cell_type": "markdown",
   "metadata": {},
   "source": [
    "Alternatively, we can view an interesting summary of the DataFrame entries using the <i>describe()</i> function:"
   ]
  },
  {
   "cell_type": "code",
   "execution_count": 33,
   "metadata": {
    "collapsed": false
   },
   "outputs": [
    {
     "data": {
      "text/plain": [
       "count         545\n",
       "unique        420\n",
       "top       Chicago\n",
       "freq           18\n",
       "Name: City, dtype: object"
      ]
     },
     "execution_count": 33,
     "metadata": {},
     "output_type": "execute_result"
    }
   ],
   "source": [
    "dframe['City'].describe()"
   ]
  },
  {
   "cell_type": "markdown",
   "metadata": {},
   "source": [
    "From this, we learn that there are 545 entries in the city column, 420 of which are unique. Chicago occurs most frequently at 18 times.\n",
    "\n",
    "If you want to view your DataFrame by each column to check that the data is of the correct type, you can do so using either the following:"
   ]
  },
  {
   "cell_type": "code",
   "execution_count": 34,
   "metadata": {
    "collapsed": false
   },
   "outputs": [
    {
     "data": {
      "text/plain": [
       "Bank Name                object\n",
       "City                     object\n",
       "ST                       object\n",
       "CERT                      int64\n",
       "Acquiring Institution    object\n",
       "Closing Date             object\n",
       "Updated Date             object\n",
       "dtype: object"
      ]
     },
     "execution_count": 34,
     "metadata": {},
     "output_type": "execute_result"
    }
   ],
   "source": [
    "dframe.dtypes"
   ]
  },
  {
   "cell_type": "markdown",
   "metadata": {},
   "source": [
    "Or this (more detailed):"
   ]
  },
  {
   "cell_type": "code",
   "execution_count": 35,
   "metadata": {
    "collapsed": false
   },
   "outputs": [
    {
     "name": "stdout",
     "output_type": "stream",
     "text": [
      "<class 'pandas.core.frame.DataFrame'>\n",
      "RangeIndex: 545 entries, 0 to 544\n",
      "Data columns (total 7 columns):\n",
      "Bank Name                545 non-null object\n",
      "City                     545 non-null object\n",
      "ST                       545 non-null object\n",
      "CERT                     545 non-null int64\n",
      "Acquiring Institution    545 non-null object\n",
      "Closing Date             545 non-null object\n",
      "Updated Date             545 non-null object\n",
      "dtypes: int64(1), object(6)\n",
      "memory usage: 17.1+ KB\n"
     ]
    }
   ],
   "source": [
    "dframe.info()"
   ]
  },
  {
   "cell_type": "markdown",
   "metadata": {
    "collapsed": true
   },
   "source": [
    "As well as reading data from and converting data to CSV format, we can also do the same with <i>Excel</i> files.\n",
    "\n",
    "Similarly to CSV files, we convert a DataFrame to Excel format using the function <i>to_excel()</i> and read from Excel files using the function <i>read_excel()</i>. Let's try this with the above data frame:"
   ]
  },
  {
   "cell_type": "code",
   "execution_count": 36,
   "metadata": {
    "collapsed": true
   },
   "outputs": [],
   "source": [
    "# Convert to Excel file, omitting the index column as we do not want this to be interpreted as part of the dataset\n",
    "dframe.to_excel('failedbanks.xlsx', index=False)"
   ]
  },
  {
   "cell_type": "markdown",
   "metadata": {},
   "source": [
    "You can see that this has been successfully created by going to the location in which you saved the Excel file (the same as the location of the file that created it unless specified otherwise).\n",
    "\n",
    "Now let's read the contents of the file into the data frame:"
   ]
  },
  {
   "cell_type": "code",
   "execution_count": 37,
   "metadata": {
    "collapsed": false
   },
   "outputs": [],
   "source": [
    "dframe = pd.read_excel('failedbanks.xlsx')"
   ]
  },
  {
   "cell_type": "markdown",
   "metadata": {},
   "source": [
    "And display the first few rows to check that it has worked properly:"
   ]
  },
  {
   "cell_type": "code",
   "execution_count": 38,
   "metadata": {
    "collapsed": false
   },
   "outputs": [
    {
     "data": {
      "text/html": [
       "<div>\n",
       "<table border=\"1\" class=\"dataframe\">\n",
       "  <thead>\n",
       "    <tr style=\"text-align: right;\">\n",
       "      <th></th>\n",
       "      <th>Bank Name</th>\n",
       "      <th>City</th>\n",
       "      <th>ST</th>\n",
       "      <th>CERT</th>\n",
       "      <th>Acquiring Institution</th>\n",
       "      <th>Closing Date</th>\n",
       "      <th>Updated Date</th>\n",
       "    </tr>\n",
       "  </thead>\n",
       "  <tbody>\n",
       "    <tr>\n",
       "      <th>0</th>\n",
       "      <td>First CornerStone Bank</td>\n",
       "      <td>King of Prussia</td>\n",
       "      <td>PA</td>\n",
       "      <td>35312</td>\n",
       "      <td>First-Citizens Bank &amp; Trust Company</td>\n",
       "      <td>06-May-16</td>\n",
       "      <td>25-May-16</td>\n",
       "    </tr>\n",
       "    <tr>\n",
       "      <th>1</th>\n",
       "      <td>Trust Company Bank</td>\n",
       "      <td>Memphis</td>\n",
       "      <td>TN</td>\n",
       "      <td>9956</td>\n",
       "      <td>The Bank of Fayette County</td>\n",
       "      <td>29-Apr-16</td>\n",
       "      <td>25-May-16</td>\n",
       "    </tr>\n",
       "    <tr>\n",
       "      <th>2</th>\n",
       "      <td>North Milwaukee State Bank</td>\n",
       "      <td>Milwaukee</td>\n",
       "      <td>WI</td>\n",
       "      <td>20364</td>\n",
       "      <td>First-Citizens Bank &amp; Trust Company</td>\n",
       "      <td>11-Mar-16</td>\n",
       "      <td>16-Jun-16</td>\n",
       "    </tr>\n",
       "    <tr>\n",
       "      <th>3</th>\n",
       "      <td>Hometown National Bank</td>\n",
       "      <td>Longview</td>\n",
       "      <td>WA</td>\n",
       "      <td>35156</td>\n",
       "      <td>Twin City Bank</td>\n",
       "      <td>02-Oct-15</td>\n",
       "      <td>13-Apr-16</td>\n",
       "    </tr>\n",
       "    <tr>\n",
       "      <th>4</th>\n",
       "      <td>The Bank of Georgia</td>\n",
       "      <td>Peachtree City</td>\n",
       "      <td>GA</td>\n",
       "      <td>35259</td>\n",
       "      <td>Fidelity Bank</td>\n",
       "      <td>02-Oct-15</td>\n",
       "      <td>13-Apr-16</td>\n",
       "    </tr>\n",
       "  </tbody>\n",
       "</table>\n",
       "</div>"
      ],
      "text/plain": [
       "                    Bank Name             City  ST   CERT  \\\n",
       "0      First CornerStone Bank  King of Prussia  PA  35312   \n",
       "1          Trust Company Bank          Memphis  TN   9956   \n",
       "2  North Milwaukee State Bank        Milwaukee  WI  20364   \n",
       "3      Hometown National Bank         Longview  WA  35156   \n",
       "4         The Bank of Georgia   Peachtree City  GA  35259   \n",
       "\n",
       "                 Acquiring Institution Closing Date Updated Date  \n",
       "0  First-Citizens Bank & Trust Company    06-May-16    25-May-16  \n",
       "1           The Bank of Fayette County    29-Apr-16    25-May-16  \n",
       "2  First-Citizens Bank & Trust Company    11-Mar-16    16-Jun-16  \n",
       "3                       Twin City Bank    02-Oct-15    13-Apr-16  \n",
       "4                        Fidelity Bank    02-Oct-15    13-Apr-16  "
      ]
     },
     "execution_count": 38,
     "metadata": {},
     "output_type": "execute_result"
    }
   ],
   "source": [
    "dframe.head()"
   ]
  },
  {
   "cell_type": "markdown",
   "metadata": {},
   "source": [
    "As you can see, it has successfully been converted to Excel format then successfully read into a DataFrame in this format.\n",
    "\n",
    "To view information about the index column, do the following:"
   ]
  },
  {
   "cell_type": "code",
   "execution_count": 39,
   "metadata": {
    "collapsed": false
   },
   "outputs": [
    {
     "data": {
      "text/plain": [
       "RangeIndex(start=0, stop=545, step=1)"
      ]
     },
     "execution_count": 39,
     "metadata": {},
     "output_type": "execute_result"
    }
   ],
   "source": [
    "dframe.index"
   ]
  },
  {
   "cell_type": "markdown",
   "metadata": {},
   "source": [
    "Let's briefly return to the idea of our original DataFrame, except this time let's add in a few extra products which are the same as others in the DataFrame. We can think of this example as a report for the sales of different items from more than one store which explains why there are duplicate entries in the <i>Products</i> column:"
   ]
  },
  {
   "cell_type": "code",
   "execution_count": 40,
   "metadata": {
    "collapsed": false
   },
   "outputs": [
    {
     "data": {
      "text/html": [
       "<div>\n",
       "<table border=\"1\" class=\"dataframe\">\n",
       "  <thead>\n",
       "    <tr style=\"text-align: right;\">\n",
       "      <th></th>\n",
       "      <th>Products</th>\n",
       "      <th>Sale Count</th>\n",
       "    </tr>\n",
       "  </thead>\n",
       "  <tbody>\n",
       "    <tr>\n",
       "      <th>0</th>\n",
       "      <td>Lawnmower</td>\n",
       "      <td>231</td>\n",
       "    </tr>\n",
       "    <tr>\n",
       "      <th>1</th>\n",
       "      <td>Deck Chair</td>\n",
       "      <td>423</td>\n",
       "    </tr>\n",
       "    <tr>\n",
       "      <th>2</th>\n",
       "      <td>Paint Brush</td>\n",
       "      <td>603</td>\n",
       "    </tr>\n",
       "    <tr>\n",
       "      <th>3</th>\n",
       "      <td>Garden Bench</td>\n",
       "      <td>64</td>\n",
       "    </tr>\n",
       "    <tr>\n",
       "      <th>4</th>\n",
       "      <td>Artificial Fountain</td>\n",
       "      <td>32</td>\n",
       "    </tr>\n",
       "    <tr>\n",
       "      <th>5</th>\n",
       "      <td>Lawnmower</td>\n",
       "      <td>56</td>\n",
       "    </tr>\n",
       "    <tr>\n",
       "      <th>6</th>\n",
       "      <td>Garden Bench</td>\n",
       "      <td>40</td>\n",
       "    </tr>\n",
       "    <tr>\n",
       "      <th>7</th>\n",
       "      <td>Lawnmower</td>\n",
       "      <td>234</td>\n",
       "    </tr>\n",
       "    <tr>\n",
       "      <th>8</th>\n",
       "      <td>Paint Brush</td>\n",
       "      <td>132</td>\n",
       "    </tr>\n",
       "  </tbody>\n",
       "</table>\n",
       "</div>"
      ],
      "text/plain": [
       "              Products  Sale Count\n",
       "0            Lawnmower         231\n",
       "1           Deck Chair         423\n",
       "2          Paint Brush         603\n",
       "3         Garden Bench          64\n",
       "4  Artificial Fountain          32\n",
       "5            Lawnmower          56\n",
       "6         Garden Bench          40\n",
       "7            Lawnmower         234\n",
       "8          Paint Brush         132"
      ]
     },
     "execution_count": 40,
     "metadata": {},
     "output_type": "execute_result"
    }
   ],
   "source": [
    "#Define data\n",
    "products2 = ['Lawnmower','Deck Chair','Paint Brush','Garden Bench','Artificial Fountain','Lawnmower','Garden Bench','Lawnmower','Paint Brush']\n",
    "sales2 = [231,423,603,64,32,56,40,234,132]\n",
    "\n",
    "#Merge data\n",
    "shop_sales2 = list(zip(products2,sales2))\n",
    "\n",
    "#Create DataFrame\n",
    "df2 = pd.DataFrame(data=shop_sales2, columns=['Products', 'Sale Count'])\n",
    "\n",
    "#Display DataFrame\n",
    "df2"
   ]
  },
  {
   "cell_type": "markdown",
   "metadata": {},
   "source": [
    "The reason I have created such a DataFrame is to illustrate the <i>groupby</i> function of pandas which is very useful when dealing with duplicate entries. It groups together these duplicates as follows:"
   ]
  },
  {
   "cell_type": "code",
   "execution_count": 41,
   "metadata": {
    "collapsed": false
   },
   "outputs": [
    {
     "data": {
      "text/html": [
       "<div>\n",
       "<table border=\"1\" class=\"dataframe\">\n",
       "  <thead>\n",
       "    <tr style=\"text-align: right;\">\n",
       "      <th></th>\n",
       "      <th>Sale Count</th>\n",
       "    </tr>\n",
       "    <tr>\n",
       "      <th>Products</th>\n",
       "      <th></th>\n",
       "    </tr>\n",
       "  </thead>\n",
       "  <tbody>\n",
       "    <tr>\n",
       "      <th>Artificial Fountain</th>\n",
       "      <td>32</td>\n",
       "    </tr>\n",
       "    <tr>\n",
       "      <th>Deck Chair</th>\n",
       "      <td>423</td>\n",
       "    </tr>\n",
       "    <tr>\n",
       "      <th>Garden Bench</th>\n",
       "      <td>104</td>\n",
       "    </tr>\n",
       "    <tr>\n",
       "      <th>Lawnmower</th>\n",
       "      <td>521</td>\n",
       "    </tr>\n",
       "    <tr>\n",
       "      <th>Paint Brush</th>\n",
       "      <td>735</td>\n",
       "    </tr>\n",
       "  </tbody>\n",
       "</table>\n",
       "</div>"
      ],
      "text/plain": [
       "                     Sale Count\n",
       "Products                       \n",
       "Artificial Fountain          32\n",
       "Deck Chair                  423\n",
       "Garden Bench                104\n",
       "Lawnmower                   521\n",
       "Paint Brush                 735"
      ]
     },
     "execution_count": 41,
     "metadata": {},
     "output_type": "execute_result"
    }
   ],
   "source": [
    "# Create the groupby object which groups duplicate entries together\n",
    "products = df2.groupby('Products')\n",
    "\n",
    "# Get the total combined number of sales for each type of product in both shops using the sum function on the groupby object\n",
    "df2 = products.sum()\n",
    "\n",
    "# Display the new DataFrame\n",
    "df2"
   ]
  },
  {
   "cell_type": "markdown",
   "metadata": {},
   "source": [
    "## Changing the Content of a DataFrame:"
   ]
  },
  {
   "cell_type": "markdown",
   "metadata": {},
   "source": [
    "<i>pandas</i> offers the user different means of changing the content of a DataFrame.\n",
    "\n",
    "The first example we are going to look at is how to change content to all upper-case. The following code shows how to change the names of all cities in our DataFrame to upper-case:"
   ]
  },
  {
   "cell_type": "code",
   "execution_count": 42,
   "metadata": {
    "collapsed": false
   },
   "outputs": [],
   "source": [
    "dframe['City'] = dframe.City.apply(lambda x: x.upper())"
   ]
  },
  {
   "cell_type": "markdown",
   "metadata": {
    "collapsed": true
   },
   "source": [
    "Let's then check if this worked as it should have:"
   ]
  },
  {
   "cell_type": "code",
   "execution_count": 43,
   "metadata": {
    "collapsed": false
   },
   "outputs": [
    {
     "data": {
      "text/html": [
       "<div>\n",
       "<table border=\"1\" class=\"dataframe\">\n",
       "  <thead>\n",
       "    <tr style=\"text-align: right;\">\n",
       "      <th></th>\n",
       "      <th>Bank Name</th>\n",
       "      <th>City</th>\n",
       "      <th>ST</th>\n",
       "      <th>CERT</th>\n",
       "      <th>Acquiring Institution</th>\n",
       "      <th>Closing Date</th>\n",
       "      <th>Updated Date</th>\n",
       "    </tr>\n",
       "  </thead>\n",
       "  <tbody>\n",
       "    <tr>\n",
       "      <th>0</th>\n",
       "      <td>First CornerStone Bank</td>\n",
       "      <td>KING OF PRUSSIA</td>\n",
       "      <td>PA</td>\n",
       "      <td>35312</td>\n",
       "      <td>First-Citizens Bank &amp; Trust Company</td>\n",
       "      <td>06-May-16</td>\n",
       "      <td>25-May-16</td>\n",
       "    </tr>\n",
       "    <tr>\n",
       "      <th>1</th>\n",
       "      <td>Trust Company Bank</td>\n",
       "      <td>MEMPHIS</td>\n",
       "      <td>TN</td>\n",
       "      <td>9956</td>\n",
       "      <td>The Bank of Fayette County</td>\n",
       "      <td>29-Apr-16</td>\n",
       "      <td>25-May-16</td>\n",
       "    </tr>\n",
       "    <tr>\n",
       "      <th>2</th>\n",
       "      <td>North Milwaukee State Bank</td>\n",
       "      <td>MILWAUKEE</td>\n",
       "      <td>WI</td>\n",
       "      <td>20364</td>\n",
       "      <td>First-Citizens Bank &amp; Trust Company</td>\n",
       "      <td>11-Mar-16</td>\n",
       "      <td>16-Jun-16</td>\n",
       "    </tr>\n",
       "    <tr>\n",
       "      <th>3</th>\n",
       "      <td>Hometown National Bank</td>\n",
       "      <td>LONGVIEW</td>\n",
       "      <td>WA</td>\n",
       "      <td>35156</td>\n",
       "      <td>Twin City Bank</td>\n",
       "      <td>02-Oct-15</td>\n",
       "      <td>13-Apr-16</td>\n",
       "    </tr>\n",
       "    <tr>\n",
       "      <th>4</th>\n",
       "      <td>The Bank of Georgia</td>\n",
       "      <td>PEACHTREE CITY</td>\n",
       "      <td>GA</td>\n",
       "      <td>35259</td>\n",
       "      <td>Fidelity Bank</td>\n",
       "      <td>02-Oct-15</td>\n",
       "      <td>13-Apr-16</td>\n",
       "    </tr>\n",
       "  </tbody>\n",
       "</table>\n",
       "</div>"
      ],
      "text/plain": [
       "                    Bank Name             City  ST   CERT  \\\n",
       "0      First CornerStone Bank  KING OF PRUSSIA  PA  35312   \n",
       "1          Trust Company Bank          MEMPHIS  TN   9956   \n",
       "2  North Milwaukee State Bank        MILWAUKEE  WI  20364   \n",
       "3      Hometown National Bank         LONGVIEW  WA  35156   \n",
       "4         The Bank of Georgia   PEACHTREE CITY  GA  35259   \n",
       "\n",
       "                 Acquiring Institution Closing Date Updated Date  \n",
       "0  First-Citizens Bank & Trust Company    06-May-16    25-May-16  \n",
       "1           The Bank of Fayette County    29-Apr-16    25-May-16  \n",
       "2  First-Citizens Bank & Trust Company    11-Mar-16    16-Jun-16  \n",
       "3                       Twin City Bank    02-Oct-15    13-Apr-16  \n",
       "4                        Fidelity Bank    02-Oct-15    13-Apr-16  "
      ]
     },
     "execution_count": 43,
     "metadata": {},
     "output_type": "execute_result"
    }
   ],
   "source": [
    "# Display first five rows\n",
    "dframe.head()"
   ]
  },
  {
   "cell_type": "markdown",
   "metadata": {},
   "source": [
    "Similarly you can change content to all lower-case by slightly tweaking the previous piece of code:"
   ]
  },
  {
   "cell_type": "code",
   "execution_count": 44,
   "metadata": {
    "collapsed": false
   },
   "outputs": [
    {
     "data": {
      "text/html": [
       "<div>\n",
       "<table border=\"1\" class=\"dataframe\">\n",
       "  <thead>\n",
       "    <tr style=\"text-align: right;\">\n",
       "      <th></th>\n",
       "      <th>Bank Name</th>\n",
       "      <th>City</th>\n",
       "      <th>ST</th>\n",
       "      <th>CERT</th>\n",
       "      <th>Acquiring Institution</th>\n",
       "      <th>Closing Date</th>\n",
       "      <th>Updated Date</th>\n",
       "    </tr>\n",
       "  </thead>\n",
       "  <tbody>\n",
       "    <tr>\n",
       "      <th>0</th>\n",
       "      <td>First CornerStone Bank</td>\n",
       "      <td>king of prussia</td>\n",
       "      <td>PA</td>\n",
       "      <td>35312</td>\n",
       "      <td>First-Citizens Bank &amp; Trust Company</td>\n",
       "      <td>06-May-16</td>\n",
       "      <td>25-May-16</td>\n",
       "    </tr>\n",
       "    <tr>\n",
       "      <th>1</th>\n",
       "      <td>Trust Company Bank</td>\n",
       "      <td>memphis</td>\n",
       "      <td>TN</td>\n",
       "      <td>9956</td>\n",
       "      <td>The Bank of Fayette County</td>\n",
       "      <td>29-Apr-16</td>\n",
       "      <td>25-May-16</td>\n",
       "    </tr>\n",
       "    <tr>\n",
       "      <th>2</th>\n",
       "      <td>North Milwaukee State Bank</td>\n",
       "      <td>milwaukee</td>\n",
       "      <td>WI</td>\n",
       "      <td>20364</td>\n",
       "      <td>First-Citizens Bank &amp; Trust Company</td>\n",
       "      <td>11-Mar-16</td>\n",
       "      <td>16-Jun-16</td>\n",
       "    </tr>\n",
       "    <tr>\n",
       "      <th>3</th>\n",
       "      <td>Hometown National Bank</td>\n",
       "      <td>longview</td>\n",
       "      <td>WA</td>\n",
       "      <td>35156</td>\n",
       "      <td>Twin City Bank</td>\n",
       "      <td>02-Oct-15</td>\n",
       "      <td>13-Apr-16</td>\n",
       "    </tr>\n",
       "    <tr>\n",
       "      <th>4</th>\n",
       "      <td>The Bank of Georgia</td>\n",
       "      <td>peachtree city</td>\n",
       "      <td>GA</td>\n",
       "      <td>35259</td>\n",
       "      <td>Fidelity Bank</td>\n",
       "      <td>02-Oct-15</td>\n",
       "      <td>13-Apr-16</td>\n",
       "    </tr>\n",
       "  </tbody>\n",
       "</table>\n",
       "</div>"
      ],
      "text/plain": [
       "                    Bank Name             City  ST   CERT  \\\n",
       "0      First CornerStone Bank  king of prussia  PA  35312   \n",
       "1          Trust Company Bank          memphis  TN   9956   \n",
       "2  North Milwaukee State Bank        milwaukee  WI  20364   \n",
       "3      Hometown National Bank         longview  WA  35156   \n",
       "4         The Bank of Georgia   peachtree city  GA  35259   \n",
       "\n",
       "                 Acquiring Institution Closing Date Updated Date  \n",
       "0  First-Citizens Bank & Trust Company    06-May-16    25-May-16  \n",
       "1           The Bank of Fayette County    29-Apr-16    25-May-16  \n",
       "2  First-Citizens Bank & Trust Company    11-Mar-16    16-Jun-16  \n",
       "3                       Twin City Bank    02-Oct-15    13-Apr-16  \n",
       "4                        Fidelity Bank    02-Oct-15    13-Apr-16  "
      ]
     },
     "execution_count": 44,
     "metadata": {},
     "output_type": "execute_result"
    }
   ],
   "source": [
    "# Convert the 'City' column to lower case\n",
    "dframe['City'] = dframe.City.apply(lambda x: x.lower())\n",
    "# Display first 5 rows of DataFrame\n",
    "dframe.head()"
   ]
  },
  {
   "cell_type": "markdown",
   "metadata": {},
   "source": [
    "Say you discovered an error in the data: for example, the bank with cert 35259 is situated in Atlanta as opposed to Peachtree City. You may attempt to do this as follows:\n",
    "    \n",
    "            has_cert_35259 = dframe.CERT == 35259\n",
    "            dframe['City'][has_cert_35259] = 'Atlanta'\n",
    "        \n",
    "However, executing the above code will produce what is known as a <b>SettingWithCopy</b> error. This exception is raised because the above piece of code employs <i>chained indexing</i>. With this type of indexing, pandas cannot guarantee the user that the actual DataFrame will be modified; changes may be applied only to a temporary copy. \n",
    "\n",
    "To correctly update the specified entry in the DataFrame without raising any exceptions, execute the following:"
   ]
  },
  {
   "cell_type": "code",
   "execution_count": 51,
   "metadata": {
    "collapsed": false
   },
   "outputs": [
    {
     "data": {
      "text/html": [
       "<div>\n",
       "<table border=\"1\" class=\"dataframe\">\n",
       "  <thead>\n",
       "    <tr style=\"text-align: right;\">\n",
       "      <th></th>\n",
       "      <th>Bank Name</th>\n",
       "      <th>City</th>\n",
       "      <th>ST</th>\n",
       "      <th>CERT</th>\n",
       "      <th>Acquiring Institution</th>\n",
       "      <th>Closing Date</th>\n",
       "      <th>Updated Date</th>\n",
       "    </tr>\n",
       "  </thead>\n",
       "  <tbody>\n",
       "    <tr>\n",
       "      <th>0</th>\n",
       "      <td>First CornerStone Bank</td>\n",
       "      <td>king of prussia</td>\n",
       "      <td>PA</td>\n",
       "      <td>35312</td>\n",
       "      <td>First-Citizens Bank &amp; Trust Company</td>\n",
       "      <td>06-May-16</td>\n",
       "      <td>25-May-16</td>\n",
       "    </tr>\n",
       "    <tr>\n",
       "      <th>1</th>\n",
       "      <td>Trust Company Bank</td>\n",
       "      <td>memphis</td>\n",
       "      <td>TN</td>\n",
       "      <td>9956</td>\n",
       "      <td>The Bank of Fayette County</td>\n",
       "      <td>29-Apr-16</td>\n",
       "      <td>25-May-16</td>\n",
       "    </tr>\n",
       "    <tr>\n",
       "      <th>2</th>\n",
       "      <td>North Milwaukee State Bank</td>\n",
       "      <td>milwaukee</td>\n",
       "      <td>WI</td>\n",
       "      <td>20364</td>\n",
       "      <td>First-Citizens Bank &amp; Trust Company</td>\n",
       "      <td>11-Mar-16</td>\n",
       "      <td>16-Jun-16</td>\n",
       "    </tr>\n",
       "    <tr>\n",
       "      <th>3</th>\n",
       "      <td>Hometown National Bank</td>\n",
       "      <td>longview</td>\n",
       "      <td>WA</td>\n",
       "      <td>35156</td>\n",
       "      <td>Twin City Bank</td>\n",
       "      <td>02-Oct-15</td>\n",
       "      <td>13-Apr-16</td>\n",
       "    </tr>\n",
       "    <tr>\n",
       "      <th>4</th>\n",
       "      <td>The Bank of Georgia</td>\n",
       "      <td>Atlanta</td>\n",
       "      <td>GA</td>\n",
       "      <td>35259</td>\n",
       "      <td>Fidelity Bank</td>\n",
       "      <td>02-Oct-15</td>\n",
       "      <td>13-Apr-16</td>\n",
       "    </tr>\n",
       "  </tbody>\n",
       "</table>\n",
       "</div>"
      ],
      "text/plain": [
       "                    Bank Name             City  ST   CERT  \\\n",
       "0      First CornerStone Bank  king of prussia  PA  35312   \n",
       "1          Trust Company Bank          memphis  TN   9956   \n",
       "2  North Milwaukee State Bank        milwaukee  WI  20364   \n",
       "3      Hometown National Bank         longview  WA  35156   \n",
       "4         The Bank of Georgia          Atlanta  GA  35259   \n",
       "\n",
       "                 Acquiring Institution Closing Date Updated Date  \n",
       "0  First-Citizens Bank & Trust Company    06-May-16    25-May-16  \n",
       "1           The Bank of Fayette County    29-Apr-16    25-May-16  \n",
       "2  First-Citizens Bank & Trust Company    11-Mar-16    16-Jun-16  \n",
       "3                       Twin City Bank    02-Oct-15    13-Apr-16  \n",
       "4                        Fidelity Bank    02-Oct-15    13-Apr-16  "
      ]
     },
     "execution_count": 51,
     "metadata": {},
     "output_type": "execute_result"
    }
   ],
   "source": [
    "# Define condition that distinguishes the bank in question\n",
    "has_cert_35259 = dframe.CERT == 35259\n",
    "# Apply condition and define desired change \n",
    "dframe.ix[has_cert_35259,'City'] = 'Atlanta'\n",
    "# Display DataFrame to make sure it correctly changed the entry\n",
    "dframe.head()"
   ]
  },
  {
   "cell_type": "markdown",
   "metadata": {},
   "source": [
    "Something to note about this update is that the changes are applied to the <i>DataFrame</i> object that holds the data, not the file that the data was taken from. The code below demonstrates this:"
   ]
  },
  {
   "cell_type": "code",
   "execution_count": 45,
   "metadata": {
    "collapsed": false
   },
   "outputs": [
    {
     "data": {
      "text/html": [
       "<div>\n",
       "<table border=\"1\" class=\"dataframe\">\n",
       "  <thead>\n",
       "    <tr style=\"text-align: right;\">\n",
       "      <th></th>\n",
       "      <th>Bank Name</th>\n",
       "      <th>City</th>\n",
       "      <th>ST</th>\n",
       "      <th>CERT</th>\n",
       "      <th>Acquiring Institution</th>\n",
       "      <th>Closing Date</th>\n",
       "      <th>Updated Date</th>\n",
       "    </tr>\n",
       "  </thead>\n",
       "  <tbody>\n",
       "    <tr>\n",
       "      <th>0</th>\n",
       "      <td>First CornerStone Bank</td>\n",
       "      <td>King of Prussia</td>\n",
       "      <td>PA</td>\n",
       "      <td>35312</td>\n",
       "      <td>First-Citizens Bank &amp; Trust Company</td>\n",
       "      <td>06-May-16</td>\n",
       "      <td>25-May-16</td>\n",
       "    </tr>\n",
       "    <tr>\n",
       "      <th>1</th>\n",
       "      <td>Trust Company Bank</td>\n",
       "      <td>Memphis</td>\n",
       "      <td>TN</td>\n",
       "      <td>9956</td>\n",
       "      <td>The Bank of Fayette County</td>\n",
       "      <td>29-Apr-16</td>\n",
       "      <td>25-May-16</td>\n",
       "    </tr>\n",
       "    <tr>\n",
       "      <th>2</th>\n",
       "      <td>North Milwaukee State Bank</td>\n",
       "      <td>Milwaukee</td>\n",
       "      <td>WI</td>\n",
       "      <td>20364</td>\n",
       "      <td>First-Citizens Bank &amp; Trust Company</td>\n",
       "      <td>11-Mar-16</td>\n",
       "      <td>16-Jun-16</td>\n",
       "    </tr>\n",
       "    <tr>\n",
       "      <th>3</th>\n",
       "      <td>Hometown National Bank</td>\n",
       "      <td>Longview</td>\n",
       "      <td>WA</td>\n",
       "      <td>35156</td>\n",
       "      <td>Twin City Bank</td>\n",
       "      <td>02-Oct-15</td>\n",
       "      <td>13-Apr-16</td>\n",
       "    </tr>\n",
       "    <tr>\n",
       "      <th>4</th>\n",
       "      <td>The Bank of Georgia</td>\n",
       "      <td>Peachtree City</td>\n",
       "      <td>GA</td>\n",
       "      <td>35259</td>\n",
       "      <td>Fidelity Bank</td>\n",
       "      <td>02-Oct-15</td>\n",
       "      <td>13-Apr-16</td>\n",
       "    </tr>\n",
       "  </tbody>\n",
       "</table>\n",
       "</div>"
      ],
      "text/plain": [
       "                    Bank Name             City  ST   CERT  \\\n",
       "0      First CornerStone Bank  King of Prussia  PA  35312   \n",
       "1          Trust Company Bank          Memphis  TN   9956   \n",
       "2  North Milwaukee State Bank        Milwaukee  WI  20364   \n",
       "3      Hometown National Bank         Longview  WA  35156   \n",
       "4         The Bank of Georgia   Peachtree City  GA  35259   \n",
       "\n",
       "                 Acquiring Institution Closing Date Updated Date  \n",
       "0  First-Citizens Bank & Trust Company    06-May-16    25-May-16  \n",
       "1           The Bank of Fayette County    29-Apr-16    25-May-16  \n",
       "2  First-Citizens Bank & Trust Company    11-Mar-16    16-Jun-16  \n",
       "3                       Twin City Bank    02-Oct-15    13-Apr-16  \n",
       "4                        Fidelity Bank    02-Oct-15    13-Apr-16  "
      ]
     },
     "execution_count": 45,
     "metadata": {},
     "output_type": "execute_result"
    }
   ],
   "source": [
    "test = pd.read_excel('failedbanks.xlsx')\n",
    "test.head()"
   ]
  },
  {
   "cell_type": "markdown",
   "metadata": {},
   "source": [
    "pandas allows you to edit and delete existing columns as well as add new ones. Let's create a new DataFrame to illustrate this:"
   ]
  },
  {
   "cell_type": "code",
   "execution_count": 48,
   "metadata": {
    "collapsed": false
   },
   "outputs": [
    {
     "data": {
      "text/html": [
       "<div>\n",
       "<table border=\"1\" class=\"dataframe\">\n",
       "  <thead>\n",
       "    <tr style=\"text-align: right;\">\n",
       "      <th></th>\n",
       "      <th>0</th>\n",
       "    </tr>\n",
       "  </thead>\n",
       "  <tbody>\n",
       "    <tr>\n",
       "      <th>0</th>\n",
       "      <td>Abbey Road</td>\n",
       "    </tr>\n",
       "    <tr>\n",
       "      <th>1</th>\n",
       "      <td>Pet Sounds</td>\n",
       "    </tr>\n",
       "    <tr>\n",
       "      <th>2</th>\n",
       "      <td>Bridge Over Troubled Waters</td>\n",
       "    </tr>\n",
       "    <tr>\n",
       "      <th>3</th>\n",
       "      <td>Hunky Dory</td>\n",
       "    </tr>\n",
       "  </tbody>\n",
       "</table>\n",
       "</div>"
      ],
      "text/plain": [
       "                             0\n",
       "0                   Abbey Road\n",
       "1                   Pet Sounds\n",
       "2  Bridge Over Troubled Waters\n",
       "3                   Hunky Dory"
      ]
     },
     "execution_count": 48,
     "metadata": {},
     "output_type": "execute_result"
    }
   ],
   "source": [
    "# Create a data set for the first column\n",
    "albums = ['Abbey Road','Pet Sounds','Bridge Over Troubled Waters','Hunky Dory']\n",
    "\n",
    "# Create a DataFrame object from the above data with default column and index names\n",
    "df3 = pd.DataFrame(albums)\n",
    "df3"
   ]
  },
  {
   "cell_type": "markdown",
   "metadata": {},
   "source": [
    "Now let's edit the name of the column:"
   ]
  },
  {
   "cell_type": "code",
   "execution_count": 49,
   "metadata": {
    "collapsed": false
   },
   "outputs": [
    {
     "data": {
      "text/html": [
       "<div>\n",
       "<table border=\"1\" class=\"dataframe\">\n",
       "  <thead>\n",
       "    <tr style=\"text-align: right;\">\n",
       "      <th></th>\n",
       "      <th>Albums</th>\n",
       "    </tr>\n",
       "  </thead>\n",
       "  <tbody>\n",
       "    <tr>\n",
       "      <th>0</th>\n",
       "      <td>Abbey Road</td>\n",
       "    </tr>\n",
       "    <tr>\n",
       "      <th>1</th>\n",
       "      <td>Pet Sounds</td>\n",
       "    </tr>\n",
       "    <tr>\n",
       "      <th>2</th>\n",
       "      <td>Bridge Over Troubled Waters</td>\n",
       "    </tr>\n",
       "    <tr>\n",
       "      <th>3</th>\n",
       "      <td>Hunky Dory</td>\n",
       "    </tr>\n",
       "  </tbody>\n",
       "</table>\n",
       "</div>"
      ],
      "text/plain": [
       "                        Albums\n",
       "0                   Abbey Road\n",
       "1                   Pet Sounds\n",
       "2  Bridge Over Troubled Waters\n",
       "3                   Hunky Dory"
      ]
     },
     "execution_count": 49,
     "metadata": {},
     "output_type": "execute_result"
    }
   ],
   "source": [
    "df3.columns = ['Albums']\n",
    "df3"
   ]
  },
  {
   "cell_type": "markdown",
   "metadata": {},
   "source": [
    "Let's now add a new column to the DataFrame. Say this column will hold a group of listeners' average rating for each album, setting the initial value as 0 before they have rated them:"
   ]
  },
  {
   "cell_type": "code",
   "execution_count": 55,
   "metadata": {
    "collapsed": false
   },
   "outputs": [
    {
     "data": {
      "text/html": [
       "<div>\n",
       "<table border=\"1\" class=\"dataframe\">\n",
       "  <thead>\n",
       "    <tr style=\"text-align: right;\">\n",
       "      <th></th>\n",
       "      <th>Albums</th>\n",
       "      <th>Average Rating</th>\n",
       "    </tr>\n",
       "  </thead>\n",
       "  <tbody>\n",
       "    <tr>\n",
       "      <th>0</th>\n",
       "      <td>Abbey Road</td>\n",
       "      <td>0</td>\n",
       "    </tr>\n",
       "    <tr>\n",
       "      <th>1</th>\n",
       "      <td>Pet Sounds</td>\n",
       "      <td>0</td>\n",
       "    </tr>\n",
       "    <tr>\n",
       "      <th>2</th>\n",
       "      <td>Bridge Over Troubled Waters</td>\n",
       "      <td>0</td>\n",
       "    </tr>\n",
       "    <tr>\n",
       "      <th>3</th>\n",
       "      <td>Hunky Dory</td>\n",
       "      <td>0</td>\n",
       "    </tr>\n",
       "  </tbody>\n",
       "</table>\n",
       "</div>"
      ],
      "text/plain": [
       "                        Albums  Average Rating\n",
       "0                   Abbey Road               0\n",
       "1                   Pet Sounds               0\n",
       "2  Bridge Over Troubled Waters               0\n",
       "3                   Hunky Dory               0"
      ]
     },
     "execution_count": 55,
     "metadata": {},
     "output_type": "execute_result"
    }
   ],
   "source": [
    "df3['Average Rating'] = 0\n",
    "df3"
   ]
  },
  {
   "cell_type": "markdown",
   "metadata": {},
   "source": [
    "You can add new columns which copy across the values in another columns as follows:"
   ]
  },
  {
   "cell_type": "code",
   "execution_count": 57,
   "metadata": {
    "collapsed": false
   },
   "outputs": [
    {
     "data": {
      "text/html": [
       "<div>\n",
       "<table border=\"1\" class=\"dataframe\">\n",
       "  <thead>\n",
       "    <tr style=\"text-align: right;\">\n",
       "      <th></th>\n",
       "      <th>Albums</th>\n",
       "      <th>Average Rating</th>\n",
       "      <th>No. of Ratings Submitted</th>\n",
       "    </tr>\n",
       "  </thead>\n",
       "  <tbody>\n",
       "    <tr>\n",
       "      <th>0</th>\n",
       "      <td>Abbey Road</td>\n",
       "      <td>0</td>\n",
       "      <td>0</td>\n",
       "    </tr>\n",
       "    <tr>\n",
       "      <th>1</th>\n",
       "      <td>Pet Sounds</td>\n",
       "      <td>0</td>\n",
       "      <td>0</td>\n",
       "    </tr>\n",
       "    <tr>\n",
       "      <th>2</th>\n",
       "      <td>Bridge Over Troubled Waters</td>\n",
       "      <td>0</td>\n",
       "      <td>0</td>\n",
       "    </tr>\n",
       "    <tr>\n",
       "      <th>3</th>\n",
       "      <td>Hunky Dory</td>\n",
       "      <td>0</td>\n",
       "      <td>0</td>\n",
       "    </tr>\n",
       "  </tbody>\n",
       "</table>\n",
       "</div>"
      ],
      "text/plain": [
       "                        Albums  Average Rating  No. of Ratings Submitted\n",
       "0                   Abbey Road               0                         0\n",
       "1                   Pet Sounds               0                         0\n",
       "2  Bridge Over Troubled Waters               0                         0\n",
       "3                   Hunky Dory               0                         0"
      ]
     },
     "execution_count": 57,
     "metadata": {},
     "output_type": "execute_result"
    }
   ],
   "source": [
    "df3['No. of Ratings Submitted'] = df3['Average Rating']\n",
    "df3"
   ]
  },
  {
   "cell_type": "markdown",
   "metadata": {},
   "source": [
    "We can also edit the index column:"
   ]
  },
  {
   "cell_type": "code",
   "execution_count": 58,
   "metadata": {
    "collapsed": false
   },
   "outputs": [
    {
     "data": {
      "text/html": [
       "<div>\n",
       "<table border=\"1\" class=\"dataframe\">\n",
       "  <thead>\n",
       "    <tr style=\"text-align: right;\">\n",
       "      <th></th>\n",
       "      <th>Albums</th>\n",
       "      <th>Average Rating</th>\n",
       "      <th>No. of Ratings Submitted</th>\n",
       "    </tr>\n",
       "  </thead>\n",
       "  <tbody>\n",
       "    <tr>\n",
       "      <th>The Beatles</th>\n",
       "      <td>Abbey Road</td>\n",
       "      <td>0</td>\n",
       "      <td>0</td>\n",
       "    </tr>\n",
       "    <tr>\n",
       "      <th>The Beach Boys</th>\n",
       "      <td>Pet Sounds</td>\n",
       "      <td>0</td>\n",
       "      <td>0</td>\n",
       "    </tr>\n",
       "    <tr>\n",
       "      <th>Simon and Garfunkel</th>\n",
       "      <td>Bridge Over Troubled Waters</td>\n",
       "      <td>0</td>\n",
       "      <td>0</td>\n",
       "    </tr>\n",
       "    <tr>\n",
       "      <th>David Bowie</th>\n",
       "      <td>Hunky Dory</td>\n",
       "      <td>0</td>\n",
       "      <td>0</td>\n",
       "    </tr>\n",
       "  </tbody>\n",
       "</table>\n",
       "</div>"
      ],
      "text/plain": [
       "                                          Albums  Average Rating  \\\n",
       "The Beatles                           Abbey Road               0   \n",
       "The Beach Boys                        Pet Sounds               0   \n",
       "Simon and Garfunkel  Bridge Over Troubled Waters               0   \n",
       "David Bowie                           Hunky Dory               0   \n",
       "\n",
       "                     No. of Ratings Submitted  \n",
       "The Beatles                                 0  \n",
       "The Beach Boys                              0  \n",
       "Simon and Garfunkel                         0  \n",
       "David Bowie                                 0  "
      ]
     },
     "execution_count": 58,
     "metadata": {},
     "output_type": "execute_result"
    }
   ],
   "source": [
    "artists = ['The Beatles','The Beach Boys','Simon and Garfunkel','David Bowie']\n",
    "df3.index = artists\n",
    "df3"
   ]
  },
  {
   "cell_type": "markdown",
   "metadata": {},
   "source": [
    "We can extract information about different rows of the table using <i>loc</i>. This allows the user to make selections by label:"
   ]
  },
  {
   "cell_type": "code",
   "execution_count": 59,
   "metadata": {
    "collapsed": false
   },
   "outputs": [
    {
     "data": {
      "text/plain": [
       "Albums                      Hunky Dory\n",
       "Average Rating                       0\n",
       "No. of Ratings Submitted             0\n",
       "Name: David Bowie, dtype: object"
      ]
     },
     "execution_count": 59,
     "metadata": {},
     "output_type": "execute_result"
    }
   ],
   "source": [
    "df3.loc['David Bowie']"
   ]
  },
  {
   "cell_type": "markdown",
   "metadata": {},
   "source": [
    "<i>loc</i> can also be used to get information from one row in the dataframe up as far as another row (inclusive):"
   ]
  },
  {
   "cell_type": "code",
   "execution_count": 60,
   "metadata": {
    "collapsed": false
   },
   "outputs": [
    {
     "data": {
      "text/html": [
       "<div>\n",
       "<table border=\"1\" class=\"dataframe\">\n",
       "  <thead>\n",
       "    <tr style=\"text-align: right;\">\n",
       "      <th></th>\n",
       "      <th>Albums</th>\n",
       "      <th>Average Rating</th>\n",
       "      <th>No. of Ratings Submitted</th>\n",
       "    </tr>\n",
       "  </thead>\n",
       "  <tbody>\n",
       "    <tr>\n",
       "      <th>The Beatles</th>\n",
       "      <td>Abbey Road</td>\n",
       "      <td>0</td>\n",
       "      <td>0</td>\n",
       "    </tr>\n",
       "    <tr>\n",
       "      <th>The Beach Boys</th>\n",
       "      <td>Pet Sounds</td>\n",
       "      <td>0</td>\n",
       "      <td>0</td>\n",
       "    </tr>\n",
       "    <tr>\n",
       "      <th>Simon and Garfunkel</th>\n",
       "      <td>Bridge Over Troubled Waters</td>\n",
       "      <td>0</td>\n",
       "      <td>0</td>\n",
       "    </tr>\n",
       "  </tbody>\n",
       "</table>\n",
       "</div>"
      ],
      "text/plain": [
       "                                          Albums  Average Rating  \\\n",
       "The Beatles                           Abbey Road               0   \n",
       "The Beach Boys                        Pet Sounds               0   \n",
       "Simon and Garfunkel  Bridge Over Troubled Waters               0   \n",
       "\n",
       "                     No. of Ratings Submitted  \n",
       "The Beatles                                 0  \n",
       "The Beach Boys                              0  \n",
       "Simon and Garfunkel                         0  "
      ]
     },
     "execution_count": 60,
     "metadata": {},
     "output_type": "execute_result"
    }
   ],
   "source": [
    "df3.loc['The Beatles' : 'Simon and Garfunkel']"
   ]
  },
  {
   "cell_type": "markdown",
   "metadata": {},
   "source": [
    "Another way of carrying out the above operations is using <i>iloc</i>. Instead of locating rows by label, it located by integer positions as follows:"
   ]
  },
  {
   "cell_type": "code",
   "execution_count": 62,
   "metadata": {
    "collapsed": false
   },
   "outputs": [
    {
     "data": {
      "text/plain": [
       "Albums                      Hunky Dory\n",
       "Average Rating                       0\n",
       "No. of Ratings Submitted             0\n",
       "Name: David Bowie, dtype: object"
      ]
     },
     "execution_count": 62,
     "metadata": {},
     "output_type": "execute_result"
    }
   ],
   "source": [
    "df3.iloc[3]"
   ]
  },
  {
   "cell_type": "code",
   "execution_count": 63,
   "metadata": {
    "collapsed": false
   },
   "outputs": [
    {
     "data": {
      "text/html": [
       "<div>\n",
       "<table border=\"1\" class=\"dataframe\">\n",
       "  <thead>\n",
       "    <tr style=\"text-align: right;\">\n",
       "      <th></th>\n",
       "      <th>Albums</th>\n",
       "      <th>Average Rating</th>\n",
       "      <th>No. of Ratings Submitted</th>\n",
       "    </tr>\n",
       "  </thead>\n",
       "  <tbody>\n",
       "    <tr>\n",
       "      <th>The Beach Boys</th>\n",
       "      <td>Pet Sounds</td>\n",
       "      <td>0</td>\n",
       "      <td>0</td>\n",
       "    </tr>\n",
       "    <tr>\n",
       "      <th>Simon and Garfunkel</th>\n",
       "      <td>Bridge Over Troubled Waters</td>\n",
       "      <td>0</td>\n",
       "      <td>0</td>\n",
       "    </tr>\n",
       "    <tr>\n",
       "      <th>David Bowie</th>\n",
       "      <td>Hunky Dory</td>\n",
       "      <td>0</td>\n",
       "      <td>0</td>\n",
       "    </tr>\n",
       "  </tbody>\n",
       "</table>\n",
       "</div>"
      ],
      "text/plain": [
       "                                          Albums  Average Rating  \\\n",
       "The Beach Boys                        Pet Sounds               0   \n",
       "Simon and Garfunkel  Bridge Over Troubled Waters               0   \n",
       "David Bowie                           Hunky Dory               0   \n",
       "\n",
       "                     No. of Ratings Submitted  \n",
       "The Beach Boys                              0  \n",
       "Simon and Garfunkel                         0  \n",
       "David Bowie                                 0  "
      ]
     },
     "execution_count": 63,
     "metadata": {},
     "output_type": "execute_result"
    }
   ],
   "source": [
    "df3[1:4]"
   ]
  },
  {
   "cell_type": "markdown",
   "metadata": {},
   "source": [
    "The final thing worth mentioning is <i>ix</i>. This is a label-location based indexer which also has integer position fallback. We saw it previously when discussing the best way to update an entry in a dataframe; we learned that it provides a better means of updating than chained indexing as it prevents a SettingWithCopy exception being raised. \n",
    "\n",
    "Here, we will use it to extract different rows and columns:"
   ]
  },
  {
   "cell_type": "code",
   "execution_count": 66,
   "metadata": {
    "collapsed": false
   },
   "outputs": [
    {
     "data": {
      "text/html": [
       "<div>\n",
       "<table border=\"1\" class=\"dataframe\">\n",
       "  <thead>\n",
       "    <tr style=\"text-align: right;\">\n",
       "      <th></th>\n",
       "      <th>Albums</th>\n",
       "    </tr>\n",
       "  </thead>\n",
       "  <tbody>\n",
       "    <tr>\n",
       "      <th>The Beatles</th>\n",
       "      <td>Abbey Road</td>\n",
       "    </tr>\n",
       "    <tr>\n",
       "      <th>The Beach Boys</th>\n",
       "      <td>Pet Sounds</td>\n",
       "    </tr>\n",
       "  </tbody>\n",
       "</table>\n",
       "</div>"
      ],
      "text/plain": [
       "                    Albums\n",
       "The Beatles     Abbey Road\n",
       "The Beach Boys  Pet Sounds"
      ]
     },
     "execution_count": 66,
     "metadata": {},
     "output_type": "execute_result"
    }
   ],
   "source": [
    "df3.ix[0:2,['Albums']]"
   ]
  },
  {
   "cell_type": "code",
   "execution_count": 65,
   "metadata": {
    "collapsed": false
   },
   "outputs": [
    {
     "data": {
      "text/html": [
       "<div>\n",
       "<table border=\"1\" class=\"dataframe\">\n",
       "  <thead>\n",
       "    <tr style=\"text-align: right;\">\n",
       "      <th></th>\n",
       "      <th>Albums</th>\n",
       "      <th>Average Rating</th>\n",
       "    </tr>\n",
       "  </thead>\n",
       "  <tbody>\n",
       "    <tr>\n",
       "      <th>Simon and Garfunkel</th>\n",
       "      <td>Bridge Over Troubled Waters</td>\n",
       "      <td>0</td>\n",
       "    </tr>\n",
       "    <tr>\n",
       "      <th>David Bowie</th>\n",
       "      <td>Hunky Dory</td>\n",
       "      <td>0</td>\n",
       "    </tr>\n",
       "  </tbody>\n",
       "</table>\n",
       "</div>"
      ],
      "text/plain": [
       "                                          Albums  Average Rating\n",
       "Simon and Garfunkel  Bridge Over Troubled Waters               0\n",
       "David Bowie                           Hunky Dory               0"
      ]
     },
     "execution_count": 65,
     "metadata": {},
     "output_type": "execute_result"
    }
   ],
   "source": [
    "df3.ix[2:,['Albums','Average Rating']]"
   ]
  },
  {
   "cell_type": "markdown",
   "metadata": {},
   "source": [
    "Hopefully this notebook has given an insightful overview of the pandas library that provides you with a foundation for exploring data visualisation further.\n",
    "\n",
    "For more information on other data visualisation libraries and their application, see the other notebooks in this set."
   ]
  }
 ],
 "metadata": {
  "kernelspec": {
   "display_name": "Python 2",
   "language": "python",
   "name": "python2"
  },
  "language_info": {
   "codemirror_mode": {
    "name": "ipython",
    "version": 2
   },
   "file_extension": ".py",
   "mimetype": "text/x-python",
   "name": "python",
   "nbconvert_exporter": "python",
   "pygments_lexer": "ipython2",
   "version": "2.7.11"
  }
 },
 "nbformat": 4,
 "nbformat_minor": 0
}
